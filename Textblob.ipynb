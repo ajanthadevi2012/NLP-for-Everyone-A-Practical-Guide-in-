{
 "cells": [
  {
   "cell_type": "code",
   "execution_count": 1,
   "id": "0a5ba817-f4be-4f4e-9bf7-da9828542ca8",
   "metadata": {},
   "outputs": [
    {
     "ename": "ModuleNotFoundError",
     "evalue": "No module named 'textblob'",
     "output_type": "error",
     "traceback": [
      "\u001b[1;31m---------------------------------------------------------------------------\u001b[0m",
      "\u001b[1;31mModuleNotFoundError\u001b[0m                       Traceback (most recent call last)",
      "Cell \u001b[1;32mIn[1], line 1\u001b[0m\n\u001b[1;32m----> 1\u001b[0m \u001b[38;5;28;01mfrom\u001b[39;00m \u001b[38;5;21;01mtextblob\u001b[39;00m \u001b[38;5;28;01mimport\u001b[39;00m TextBlob\n",
      "\u001b[1;31mModuleNotFoundError\u001b[0m: No module named 'textblob'"
     ]
    }
   ],
   "source": [
    "from textblob import TextBlob"
   ]
  },
  {
   "cell_type": "code",
   "execution_count": 3,
   "id": "d3e71142-6bbf-4e7c-adfc-f8bfc5663757",
   "metadata": {},
   "outputs": [
    {
     "name": "stdout",
     "output_type": "stream",
     "text": [
      "Collecting textblob\n",
      "  Downloading textblob-0.19.0-py3-none-any.whl.metadata (4.4 kB)\n",
      "Collecting nltk>=3.9 (from textblob)\n",
      "  Downloading nltk-3.9.1-py3-none-any.whl.metadata (2.9 kB)\n",
      "Requirement already satisfied: click in c:\\users\\ajantha\\anaconda3\\lib\\site-packages (from nltk>=3.9->textblob) (8.1.7)\n",
      "Requirement already satisfied: joblib in c:\\users\\ajantha\\anaconda3\\lib\\site-packages (from nltk>=3.9->textblob) (1.4.2)\n",
      "Requirement already satisfied: regex>=2021.8.3 in c:\\users\\ajantha\\anaconda3\\lib\\site-packages (from nltk>=3.9->textblob) (2023.10.3)\n",
      "Requirement already satisfied: tqdm in c:\\users\\ajantha\\anaconda3\\lib\\site-packages (from nltk>=3.9->textblob) (4.66.4)\n",
      "Requirement already satisfied: colorama in c:\\users\\ajantha\\anaconda3\\lib\\site-packages (from click->nltk>=3.9->textblob) (0.4.6)\n",
      "Downloading textblob-0.19.0-py3-none-any.whl (624 kB)\n",
      "   ---------------------------------------- 0.0/624.3 kB ? eta -:--:--\n",
      "    --------------------------------------- 10.2/624.3 kB ? eta -:--:--\n",
      "   -- ------------------------------------ 41.0/624.3 kB 487.6 kB/s eta 0:00:02\n",
      "   ---------------- ----------------------- 256.0/624.3 kB 2.3 MB/s eta 0:00:01\n",
      "   ---------------------------------------- 624.3/624.3 kB 3.9 MB/s eta 0:00:00\n",
      "Downloading nltk-3.9.1-py3-none-any.whl (1.5 MB)\n",
      "   ---------------------------------------- 0.0/1.5 MB ? eta -:--:--\n",
      "   ---------- ----------------------------- 0.4/1.5 MB 12.2 MB/s eta 0:00:01\n",
      "   ------------------------ --------------- 0.9/1.5 MB 11.6 MB/s eta 0:00:01\n",
      "   ----------------------------------- ---- 1.3/1.5 MB 10.6 MB/s eta 0:00:01\n",
      "   ---------------------------------------- 1.5/1.5 MB 9.6 MB/s eta 0:00:00\n",
      "Installing collected packages: nltk, textblob\n",
      "  Attempting uninstall: nltk\n",
      "    Found existing installation: nltk 3.8.1\n",
      "    Uninstalling nltk-3.8.1:\n",
      "      Successfully uninstalled nltk-3.8.1\n",
      "Successfully installed nltk-3.9.1 textblob-0.19.0\n",
      "Note: you may need to restart the kernel to use updated packages.\n"
     ]
    }
   ],
   "source": [
    "pip install textblob"
   ]
  },
  {
   "cell_type": "code",
   "execution_count": 5,
   "id": "8f61dffd-5369-4e64-a066-57a5c75e29a8",
   "metadata": {},
   "outputs": [],
   "source": [
    "import nltk"
   ]
  },
  {
   "cell_type": "code",
   "execution_count": 7,
   "id": "b5bcb85c-c16a-4811-a942-031ef5529c09",
   "metadata": {},
   "outputs": [],
   "source": [
    "from textblob import TextBlob"
   ]
  },
  {
   "cell_type": "code",
   "execution_count": 9,
   "id": "78229a1a-54ea-431a-a7c3-63a99b7cad04",
   "metadata": {},
   "outputs": [],
   "source": [
    "text1 = \"i like this product. its amazing\"\n",
    "text2 = \" this is a worst product. i never recommen\"\n",
    "text3 = \"no comments\""
   ]
  },
  {
   "cell_type": "code",
   "execution_count": 13,
   "id": "b509212a-679d-4cb0-888e-cbfb05dd656e",
   "metadata": {},
   "outputs": [
    {
     "name": "stdout",
     "output_type": "stream",
     "text": [
      "Text: i like this product. its amazing\n",
      "Polarity:0.6000000000000001\n",
      "Subjectivity:0.9\n",
      "Sentimental:Positive\n",
      "--------------------------------------------------\n",
      "Text:  this is a worst product. i never recommen\n",
      "Polarity:-1.0\n",
      "Subjectivity:1.0\n",
      "Sentimental:Negative\n",
      "--------------------------------------------------\n",
      "Text: no comments\n",
      "Polarity:0.0\n",
      "Subjectivity:0.0\n",
      "Sentimental:Neutral\n",
      "--------------------------------------------------\n"
     ]
    }
   ],
   "source": [
    "def analy_senti(text):\n",
    "    blob = TextBlob(text)\n",
    "    polarity = blob.sentiment.polarity\n",
    "    subjectivity = blob.sentiment.subjectivity\n",
    "\n",
    "    # output\n",
    "    print(f\"Text: {text}\")\n",
    "    print(f\"Polarity:{polarity}\")\n",
    "    print(f\"Subjectivity:{subjectivity}\")\n",
    "    print(\"Sentimental:\", end = \"\")\n",
    "\n",
    "    if polarity>0:\n",
    "        print(\"Positive\")\n",
    "    elif polarity<0:\n",
    "        print(\"Negative\")\n",
    "    else:\n",
    "        print(\"Neutral\")\n",
    "    print(\"-\" *50)\n",
    "\n",
    "analy_senti(text1)\n",
    "analy_senti(text2)\n",
    "analy_senti(text3)"
   ]
  },
  {
   "cell_type": "code",
   "execution_count": null,
   "id": "39ebe60a-35f4-4d68-b772-726f214407c8",
   "metadata": {},
   "outputs": [],
   "source": []
  }
 ],
 "metadata": {
  "kernelspec": {
   "display_name": "Python [conda env:base] *",
   "language": "python",
   "name": "conda-base-py"
  },
  "language_info": {
   "codemirror_mode": {
    "name": "ipython",
    "version": 3
   },
   "file_extension": ".py",
   "mimetype": "text/x-python",
   "name": "python",
   "nbconvert_exporter": "python",
   "pygments_lexer": "ipython3",
   "version": "3.12.4"
  }
 },
 "nbformat": 4,
 "nbformat_minor": 5
}
