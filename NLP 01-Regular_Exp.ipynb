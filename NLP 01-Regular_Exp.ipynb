{
 "cells": [
  {
   "cell_type": "markdown",
   "id": "1141ad59-15bc-4c4a-82d3-7ce7cfa1b8a2",
   "metadata": {},
   "source": [
    "<h1 style=\"font-size:250%; font-family:cursive; \"><b>Regular Expression - Detailed Video in my YouTube Channel</b><a id=\"0\"></a></h1>\n",
    "\n",
    "\n",
    "<a href=\"https://youtu.be/fumgmx7q19o\"><h1 style=\"font-size:250%; font-family:cursive; color:#ff6666;\"><b>Link to this Video Tutorial</b></h1></a>"
   ]
  },
  {
   "cell_type": "code",
   "execution_count": 1,
   "id": "879bc4a4",
   "metadata": {},
   "outputs": [
    {
     "name": "stdout",
     "output_type": "stream",
     "text": [
      "pathology\n",
      "psychology\n",
      "psycho\n"
     ]
    }
   ],
   "source": [
    "import re\n",
    "patter = '^p.*'  \n",
    "\n",
    "str_list = [ \"pathology\", \"biology\", \"geography\", \"psychology\", \"mathematics\", \"psycho\"]\n",
    "\n",
    "for str1 in str_list:\n",
    "    result= re.match(patter,str1) \n",
    "    if result:\n",
    "        print(str1)"
   ]
  },
  {
   "cell_type": "code",
   "execution_count": 3,
   "id": "bf007fa2",
   "metadata": {},
   "outputs": [
    {
     "name": "stdout",
     "output_type": "stream",
     "text": [
      "pathology\n",
      "biol776ogy\n",
      "geography\n",
      "mathematics\n"
     ]
    }
   ],
   "source": [
    "# square\n",
    "import re\n",
    "patter = '.*[ab].*'\n",
    "\n",
    "# square brackets [ ]\n",
    "str_list = [ \"pathology\", \"biol776ogy\", \"geography\", \"psychology\", \"mathematics\"]\n",
    "\n",
    "for str1 in str_list:\n",
    "    result= re.match(patter,str1) \n",
    "    if result:\n",
    "        print(str1)"
   ]
  },
  {
   "cell_type": "code",
   "execution_count": 9,
   "id": "4864310c",
   "metadata": {},
   "outputs": [
    {
     "name": "stdout",
     "output_type": "stream",
     "text": [
      "pathology\n",
      "geography\n",
      "psychology\n",
      "mathematics\n"
     ]
    }
   ],
   "source": [
    "# period (.)\n",
    "\n",
    "import re\n",
    "patter = '........'\n",
    "\n",
    "\n",
    "str_list = [ \"pathology\", \"biology\", \"geography\", \"psychology\", \"mathematics\"]\n",
    "\n",
    "for str1 in str_list:\n",
    "    result= re.match(patter,str1) \n",
    "    if result:\n",
    "        print(str1)"
   ]
  },
  {
   "cell_type": "code",
   "execution_count": 11,
   "id": "37cef2e1",
   "metadata": {},
   "outputs": [
    {
     "name": "stdout",
     "output_type": "stream",
     "text": [
      "pathology\n",
      "biology\n",
      "geography\n",
      "psychology\n",
      "y\n"
     ]
    }
   ],
   "source": [
    "# ^ carrot , $ dollar\n",
    "\n",
    "import re\n",
    "patter = '.*y$'\n",
    "\n",
    "\n",
    "str_list = [ \"pathology\", \"biology\", \"geography\", \"psychology\", \"mathematics\", \"y\"]\n",
    "\n",
    "for str1 in str_list:\n",
    "    result= re.match(patter,str1) \n",
    "    if result:\n",
    "        print(str1)"
   ]
  },
  {
   "cell_type": "code",
   "execution_count": 15,
   "id": "353a50c7",
   "metadata": {},
   "outputs": [
    {
     "name": "stdout",
     "output_type": "stream",
     "text": [
      "pathology\n",
      "biology\n",
      "psychology\n"
     ]
    }
   ],
   "source": [
    "# + and ?\n",
    "\n",
    "import re\n",
    "#patter = '.*og+y'# ogy\n",
    "\n",
    "patter = '.*lo+g'\n",
    "\n",
    "str_list = [ \"pathology\", \"biology\", \"geography\", \"psychology\", \"mathematics\"]\n",
    "\n",
    "for str1 in str_list:\n",
    "    result= re.match(patter,str1) \n",
    "    if result:\n",
    "        print(str1)"
   ]
  },
  {
   "cell_type": "code",
   "execution_count": 17,
   "id": "8e8975c5",
   "metadata": {},
   "outputs": [
    {
     "name": "stdout",
     "output_type": "stream",
     "text": [
      "pathology\n",
      "geography\n",
      "mathematics\n"
     ]
    }
   ],
   "source": [
    "import re\n",
    "patter = '.*[at].*'\n",
    "\n",
    "str_list = [ \"pathology\", \"biology\", \"geography\", \"psychology\", \"mathematics\"]\n",
    "\n",
    "for str1 in str_list:\n",
    "    result= re.match(patter,str1) \n",
    "    if result:\n",
    "        print(str1)"
   ]
  },
  {
   "cell_type": "code",
   "execution_count": 19,
   "id": "e5a17b33",
   "metadata": {},
   "outputs": [
    {
     "name": "stdout",
     "output_type": "stream",
     "text": [
      "pathology\n",
      "mathematics\n"
     ]
    }
   ],
   "source": [
    "import re\n",
    "patter = '.*a+t.*'\n",
    "\n",
    "str_list = [ \"pathology\", \"biology\", \"geography\", \"psychology\", \"mathematics\"]\n",
    "\n",
    "for str1 in str_list:\n",
    "    result= re.match(patter,str1) \n",
    "    if result:\n",
    "        print(str1)"
   ]
  },
  {
   "cell_type": "code",
   "execution_count": null,
   "id": "a83ac8a1",
   "metadata": {},
   "outputs": [],
   "source": []
  },
  {
   "cell_type": "code",
   "execution_count": null,
   "id": "ff8ad8c6",
   "metadata": {},
   "outputs": [],
   "source": []
  },
  {
   "cell_type": "code",
   "execution_count": 21,
   "id": "9a7a4eb3",
   "metadata": {},
   "outputs": [
    {
     "name": "stdout",
     "output_type": "stream",
     "text": [
      "pathology\n",
      "biology\n",
      "geography\n",
      "psychology\n"
     ]
    }
   ],
   "source": [
    "import re\n",
    "patter = '.*og.*y'\n",
    "#ogy\n",
    "\n",
    "str_list = [ \"pathology\", \"biology\", \"geography\", \"psychology\", \"mathematics\"]\n",
    "\n",
    "for str1 in str_list:\n",
    "    result= re.match(patter,str1) \n",
    "    if result:\n",
    "        print(str1)"
   ]
  },
  {
   "cell_type": "code",
   "execution_count": 23,
   "id": "2bfaeb49",
   "metadata": {},
   "outputs": [
    {
     "name": "stdout",
     "output_type": "stream",
     "text": [
      "pathology\n",
      "geograthy\n",
      "mathematics\n"
     ]
    }
   ],
   "source": [
    "import re\n",
    "patter = '.*at?h' # one or more occurance\n",
    "\n",
    "\n",
    "str_list = [ \"pathology\", \"biology\", \"geograthy\", \"psychology\", \"mathematics\"]\n",
    "\n",
    "for str1 in str_list:\n",
    "    result= re.match(patter,str1) \n",
    "    if result:\n",
    "        print(str1)"
   ]
  },
  {
   "cell_type": "code",
   "execution_count": 25,
   "id": "74893228",
   "metadata": {},
   "outputs": [
    {
     "name": "stdout",
     "output_type": "stream",
     "text": [
      "<re.Match object; span=(0, 1), match='A'>\n"
     ]
    }
   ],
   "source": [
    "import re\n",
    "\n",
    "s = \"Ajantha.devi\"\n",
    "match = re.search('.',s) # without \\\n",
    "print(match)"
   ]
  },
  {
   "cell_type": "code",
   "execution_count": null,
   "id": "8fff1ad2-b8eb-4719-a3f1-3e8c49842ef6",
   "metadata": {},
   "outputs": [],
   "source": []
  },
  {
   "cell_type": "code",
   "execution_count": 27,
   "id": "93a2712a",
   "metadata": {},
   "outputs": [
    {
     "name": "stdout",
     "output_type": "stream",
     "text": [
      "<re.Match object; span=(7, 8), match=' '>\n"
     ]
    }
   ],
   "source": [
    "s = \"Ajantha devi\"\n",
    "match = re.search(' ',s) \n",
    "print(match)"
   ]
  },
  {
   "cell_type": "code",
   "execution_count": null,
   "id": "c8fb2807",
   "metadata": {},
   "outputs": [],
   "source": []
  },
  {
   "cell_type": "code",
   "execution_count": 29,
   "id": "462c26eb",
   "metadata": {},
   "outputs": [
    {
     "name": "stdout",
     "output_type": "stream",
     "text": [
      "<re.Match object; span=(1, 2), match='j'>\n"
     ]
    }
   ],
   "source": [
    "s = \"Ajantha.devi\"\n",
    "match = re.search('j',s) # without \\\n",
    "print(match)"
   ]
  },
  {
   "cell_type": "code",
   "execution_count": 61,
   "id": "5b431e16",
   "metadata": {},
   "outputs": [
    {
     "ename": "error",
     "evalue": "nothing to repeat at position 0",
     "output_type": "error",
     "traceback": [
      "\u001b[1;31m---------------------------------------------------------------------------\u001b[0m",
      "\u001b[1;31merror\u001b[0m                                     Traceback (most recent call last)",
      "Cell \u001b[1;32mIn[61], line 2\u001b[0m\n\u001b[0;32m      1\u001b[0m s \u001b[38;5;241m=\u001b[39m \u001b[38;5;124m\"\u001b[39m\u001b[38;5;124mAjantha*devi\u001b[39m\u001b[38;5;124m\"\u001b[39m\n\u001b[1;32m----> 2\u001b[0m match \u001b[38;5;241m=\u001b[39m re\u001b[38;5;241m.\u001b[39msearch(\u001b[38;5;124m'\u001b[39m\u001b[38;5;124m*\u001b[39m\u001b[38;5;124m'\u001b[39m,s) \u001b[38;5;66;03m# without \\\u001b[39;00m\n\u001b[0;32m      3\u001b[0m \u001b[38;5;28mprint\u001b[39m(match)\n",
      "File \u001b[1;32m~\\anaconda3\\Lib\\re\\__init__.py:177\u001b[0m, in \u001b[0;36msearch\u001b[1;34m(pattern, string, flags)\u001b[0m\n\u001b[0;32m    174\u001b[0m \u001b[38;5;28;01mdef\u001b[39;00m \u001b[38;5;21msearch\u001b[39m(pattern, string, flags\u001b[38;5;241m=\u001b[39m\u001b[38;5;241m0\u001b[39m):\n\u001b[0;32m    175\u001b[0m \u001b[38;5;250m    \u001b[39m\u001b[38;5;124;03m\"\"\"Scan through string looking for a match to the pattern, returning\u001b[39;00m\n\u001b[0;32m    176\u001b[0m \u001b[38;5;124;03m    a Match object, or None if no match was found.\"\"\"\u001b[39;00m\n\u001b[1;32m--> 177\u001b[0m     \u001b[38;5;28;01mreturn\u001b[39;00m _compile(pattern, flags)\u001b[38;5;241m.\u001b[39msearch(string)\n",
      "File \u001b[1;32m~\\anaconda3\\Lib\\re\\__init__.py:307\u001b[0m, in \u001b[0;36m_compile\u001b[1;34m(pattern, flags)\u001b[0m\n\u001b[0;32m    301\u001b[0m     \u001b[38;5;28;01mimport\u001b[39;00m \u001b[38;5;21;01mwarnings\u001b[39;00m\n\u001b[0;32m    302\u001b[0m     warnings\u001b[38;5;241m.\u001b[39mwarn(\u001b[38;5;124m\"\u001b[39m\u001b[38;5;124mThe re.TEMPLATE/re.T flag is deprecated \u001b[39m\u001b[38;5;124m\"\u001b[39m\n\u001b[0;32m    303\u001b[0m             \u001b[38;5;124m\"\u001b[39m\u001b[38;5;124mas it is an undocumented flag \u001b[39m\u001b[38;5;124m\"\u001b[39m\n\u001b[0;32m    304\u001b[0m             \u001b[38;5;124m\"\u001b[39m\u001b[38;5;124mwithout an obvious purpose. \u001b[39m\u001b[38;5;124m\"\u001b[39m\n\u001b[0;32m    305\u001b[0m             \u001b[38;5;124m\"\u001b[39m\u001b[38;5;124mDon\u001b[39m\u001b[38;5;124m'\u001b[39m\u001b[38;5;124mt use it.\u001b[39m\u001b[38;5;124m\"\u001b[39m,\n\u001b[0;32m    306\u001b[0m             \u001b[38;5;167;01mDeprecationWarning\u001b[39;00m)\n\u001b[1;32m--> 307\u001b[0m p \u001b[38;5;241m=\u001b[39m _compiler\u001b[38;5;241m.\u001b[39mcompile(pattern, flags)\n\u001b[0;32m    308\u001b[0m \u001b[38;5;28;01mif\u001b[39;00m flags \u001b[38;5;241m&\u001b[39m DEBUG:\n\u001b[0;32m    309\u001b[0m     \u001b[38;5;28;01mreturn\u001b[39;00m p\n",
      "File \u001b[1;32m~\\anaconda3\\Lib\\re\\_compiler.py:745\u001b[0m, in \u001b[0;36mcompile\u001b[1;34m(p, flags)\u001b[0m\n\u001b[0;32m    743\u001b[0m \u001b[38;5;28;01mif\u001b[39;00m isstring(p):\n\u001b[0;32m    744\u001b[0m     pattern \u001b[38;5;241m=\u001b[39m p\n\u001b[1;32m--> 745\u001b[0m     p \u001b[38;5;241m=\u001b[39m _parser\u001b[38;5;241m.\u001b[39mparse(p, flags)\n\u001b[0;32m    746\u001b[0m \u001b[38;5;28;01melse\u001b[39;00m:\n\u001b[0;32m    747\u001b[0m     pattern \u001b[38;5;241m=\u001b[39m \u001b[38;5;28;01mNone\u001b[39;00m\n",
      "File \u001b[1;32m~\\anaconda3\\Lib\\re\\_parser.py:979\u001b[0m, in \u001b[0;36mparse\u001b[1;34m(str, flags, state)\u001b[0m\n\u001b[0;32m    976\u001b[0m state\u001b[38;5;241m.\u001b[39mflags \u001b[38;5;241m=\u001b[39m flags\n\u001b[0;32m    977\u001b[0m state\u001b[38;5;241m.\u001b[39mstr \u001b[38;5;241m=\u001b[39m \u001b[38;5;28mstr\u001b[39m\n\u001b[1;32m--> 979\u001b[0m p \u001b[38;5;241m=\u001b[39m _parse_sub(source, state, flags \u001b[38;5;241m&\u001b[39m SRE_FLAG_VERBOSE, \u001b[38;5;241m0\u001b[39m)\n\u001b[0;32m    980\u001b[0m p\u001b[38;5;241m.\u001b[39mstate\u001b[38;5;241m.\u001b[39mflags \u001b[38;5;241m=\u001b[39m fix_flags(\u001b[38;5;28mstr\u001b[39m, p\u001b[38;5;241m.\u001b[39mstate\u001b[38;5;241m.\u001b[39mflags)\n\u001b[0;32m    982\u001b[0m \u001b[38;5;28;01mif\u001b[39;00m source\u001b[38;5;241m.\u001b[39mnext \u001b[38;5;129;01mis\u001b[39;00m \u001b[38;5;129;01mnot\u001b[39;00m \u001b[38;5;28;01mNone\u001b[39;00m:\n",
      "File \u001b[1;32m~\\anaconda3\\Lib\\re\\_parser.py:460\u001b[0m, in \u001b[0;36m_parse_sub\u001b[1;34m(source, state, verbose, nested)\u001b[0m\n\u001b[0;32m    458\u001b[0m start \u001b[38;5;241m=\u001b[39m source\u001b[38;5;241m.\u001b[39mtell()\n\u001b[0;32m    459\u001b[0m \u001b[38;5;28;01mwhile\u001b[39;00m \u001b[38;5;28;01mTrue\u001b[39;00m:\n\u001b[1;32m--> 460\u001b[0m     itemsappend(_parse(source, state, verbose, nested \u001b[38;5;241m+\u001b[39m \u001b[38;5;241m1\u001b[39m,\n\u001b[0;32m    461\u001b[0m                        \u001b[38;5;129;01mnot\u001b[39;00m nested \u001b[38;5;129;01mand\u001b[39;00m \u001b[38;5;129;01mnot\u001b[39;00m items))\n\u001b[0;32m    462\u001b[0m     \u001b[38;5;28;01mif\u001b[39;00m \u001b[38;5;129;01mnot\u001b[39;00m sourcematch(\u001b[38;5;124m\"\u001b[39m\u001b[38;5;124m|\u001b[39m\u001b[38;5;124m\"\u001b[39m):\n\u001b[0;32m    463\u001b[0m         \u001b[38;5;28;01mbreak\u001b[39;00m\n",
      "File \u001b[1;32m~\\anaconda3\\Lib\\re\\_parser.py:687\u001b[0m, in \u001b[0;36m_parse\u001b[1;34m(source, state, verbose, nested, first)\u001b[0m\n\u001b[0;32m    685\u001b[0m     item \u001b[38;5;241m=\u001b[39m \u001b[38;5;28;01mNone\u001b[39;00m\n\u001b[0;32m    686\u001b[0m \u001b[38;5;28;01mif\u001b[39;00m \u001b[38;5;129;01mnot\u001b[39;00m item \u001b[38;5;129;01mor\u001b[39;00m item[\u001b[38;5;241m0\u001b[39m][\u001b[38;5;241m0\u001b[39m] \u001b[38;5;129;01mis\u001b[39;00m AT:\n\u001b[1;32m--> 687\u001b[0m     \u001b[38;5;28;01mraise\u001b[39;00m source\u001b[38;5;241m.\u001b[39merror(\u001b[38;5;124m\"\u001b[39m\u001b[38;5;124mnothing to repeat\u001b[39m\u001b[38;5;124m\"\u001b[39m,\n\u001b[0;32m    688\u001b[0m                        source\u001b[38;5;241m.\u001b[39mtell() \u001b[38;5;241m-\u001b[39m here \u001b[38;5;241m+\u001b[39m \u001b[38;5;28mlen\u001b[39m(this))\n\u001b[0;32m    689\u001b[0m \u001b[38;5;28;01mif\u001b[39;00m item[\u001b[38;5;241m0\u001b[39m][\u001b[38;5;241m0\u001b[39m] \u001b[38;5;129;01min\u001b[39;00m _REPEATCODES:\n\u001b[0;32m    690\u001b[0m     \u001b[38;5;28;01mraise\u001b[39;00m source\u001b[38;5;241m.\u001b[39merror(\u001b[38;5;124m\"\u001b[39m\u001b[38;5;124mmultiple repeat\u001b[39m\u001b[38;5;124m\"\u001b[39m,\n\u001b[0;32m    691\u001b[0m                        source\u001b[38;5;241m.\u001b[39mtell() \u001b[38;5;241m-\u001b[39m here \u001b[38;5;241m+\u001b[39m \u001b[38;5;28mlen\u001b[39m(this))\n",
      "\u001b[1;31merror\u001b[0m: nothing to repeat at position 0"
     ]
    }
   ],
   "source": [
    "s = \"Ajantha*devi\"\n",
    "match = re.search('*',s) # without \\\n",
    "print(match)"
   ]
  },
  {
   "cell_type": "code",
   "execution_count": 63,
   "id": "81ae7c2b-1245-491f-bc62-9df1b8169b78",
   "metadata": {},
   "outputs": [
    {
     "name": "stdout",
     "output_type": "stream",
     "text": [
      "<re.Match object; span=(7, 8), match='*'>\n"
     ]
    },
    {
     "name": "stderr",
     "output_type": "stream",
     "text": [
      "<>:2: SyntaxWarning: invalid escape sequence '\\*'\n",
      "<>:2: SyntaxWarning: invalid escape sequence '\\*'\n",
      "C:\\Users\\AJANTHA\\AppData\\Local\\Temp\\ipykernel_24060\\926609662.py:2: SyntaxWarning: invalid escape sequence '\\*'\n",
      "  match = re.search('\\*',s) # without \\\n"
     ]
    }
   ],
   "source": [
    "s = \"Ajantha*devi\"\n",
    "match = re.search('\\*',s) # without \\\n",
    "print(match)"
   ]
  },
  {
   "cell_type": "code",
   "execution_count": 31,
   "id": "2a915219",
   "metadata": {},
   "outputs": [
    {
     "name": "stdout",
     "output_type": "stream",
     "text": [
      "<re.Match object; span=(7, 8), match='.'>\n"
     ]
    },
    {
     "name": "stderr",
     "output_type": "stream",
     "text": [
      "<>:1: SyntaxWarning: invalid escape sequence '\\.'\n",
      "<>:1: SyntaxWarning: invalid escape sequence '\\.'\n",
      "C:\\Users\\AJANTHA\\AppData\\Local\\Temp\\ipykernel_24060\\180943832.py:1: SyntaxWarning: invalid escape sequence '\\.'\n",
      "  match = re.search('\\.',s) # with \\\n"
     ]
    }
   ],
   "source": [
    "match = re.search('\\.',s) # with \\\n",
    "print(match)"
   ]
  },
  {
   "cell_type": "code",
   "execution_count": 33,
   "id": "69f54b71",
   "metadata": {},
   "outputs": [
    {
     "name": "stdout",
     "output_type": "stream",
     "text": [
      "['123456789', '987654321']\n"
     ]
    },
    {
     "name": "stderr",
     "output_type": "stream",
     "text": [
      "<>:6: SyntaxWarning: invalid escape sequence '\\d'\n",
      "<>:6: SyntaxWarning: invalid escape sequence '\\d'\n",
      "C:\\Users\\AJANTHA\\AppData\\Local\\Temp\\ipykernel_24060\\2808522134.py:6: SyntaxWarning: invalid escape sequence '\\d'\n",
      "  match = re.findall('\\d+', string)\n"
     ]
    }
   ],
   "source": [
    "# re.findall()\n",
    "\n",
    "string = \"\"\" hello my number is 123456789 and \n",
    "my friends number is 987654321\"\"\"\n",
    "\n",
    "match = re.findall('\\d+', string)\n",
    "print(match)"
   ]
  },
  {
   "cell_type": "code",
   "execution_count": 35,
   "id": "305d69cc",
   "metadata": {},
   "outputs": [
    {
     "name": "stdout",
     "output_type": "stream",
     "text": [
      "['d', 'd']\n"
     ]
    }
   ],
   "source": [
    "string = \"\"\" hello my number is 123456789 and \n",
    "my friends number is 987654321\"\"\"\n",
    "\n",
    "match = re.findall('d', string)\n",
    "print(match)"
   ]
  },
  {
   "cell_type": "code",
   "execution_count": 37,
   "id": "2ac4c131",
   "metadata": {},
   "outputs": [
    {
     "name": "stdout",
     "output_type": "stream",
     "text": [
      "['1', '2', '3', '4', '5', '6', '7', '8', '9', '9', '8', '7', '6', '5', '4', '3', '2', '1']\n"
     ]
    },
    {
     "name": "stderr",
     "output_type": "stream",
     "text": [
      "<>:4: SyntaxWarning: invalid escape sequence '\\d'\n",
      "<>:4: SyntaxWarning: invalid escape sequence '\\d'\n",
      "C:\\Users\\AJANTHA\\AppData\\Local\\Temp\\ipykernel_24060\\1552593740.py:4: SyntaxWarning: invalid escape sequence '\\d'\n",
      "  match = re.findall('\\d', string)\n"
     ]
    }
   ],
   "source": [
    "string = \"\"\" hello my number is 123456789 and \n",
    "my friends number is 987654321\"\"\"\n",
    "\n",
    "match = re.findall('\\d', string)\n",
    "print(match)"
   ]
  },
  {
   "cell_type": "code",
   "execution_count": 39,
   "id": "c3d15f6a",
   "metadata": {},
   "outputs": [
    {
     "name": "stdout",
     "output_type": "stream",
     "text": [
      "['hello', 'my', 'number', 'is', '123456789', 'and', 'my', 'friends', 'number', 'is', '987654321']\n"
     ]
    },
    {
     "name": "stderr",
     "output_type": "stream",
     "text": [
      "<>:6: SyntaxWarning: invalid escape sequence '\\w'\n",
      "<>:6: SyntaxWarning: invalid escape sequence '\\w'\n",
      "C:\\Users\\AJANTHA\\AppData\\Local\\Temp\\ipykernel_24060\\330396719.py:6: SyntaxWarning: invalid escape sequence '\\w'\n",
      "  match = re.findall('\\w+', string)\n"
     ]
    }
   ],
   "source": [
    "# re.findall()\n",
    "\n",
    "string = \"\"\" hello my number is 123456789 and \n",
    "my friends number is 987654321\"\"\"\n",
    "\n",
    "match = re.findall('\\w+', string)\n",
    "print(match)"
   ]
  },
  {
   "cell_type": "code",
   "execution_count": 41,
   "id": "8b442065",
   "metadata": {},
   "outputs": [
    {
     "name": "stdout",
     "output_type": "stream",
     "text": [
      "['h', 'e', 'l', 'l', 'o', 'm', 'y', 'n', 'u', 'm', 'b', 'e', 'r', 'i', 's', '1', '2', '3', '4', '5', '6', '7', '8', '9', 'a', 'n', 'd', 'm', 'y', 'f', 'r', 'i', 'e', 'n', 'd', 's', 'n', 'u', 'm', 'b', 'e', 'r', 'i', 's', '9', '8', '7', '6', '5', '4', '3', '2', '1']\n"
     ]
    },
    {
     "name": "stderr",
     "output_type": "stream",
     "text": [
      "<>:4: SyntaxWarning: invalid escape sequence '\\w'\n",
      "<>:4: SyntaxWarning: invalid escape sequence '\\w'\n",
      "C:\\Users\\AJANTHA\\AppData\\Local\\Temp\\ipykernel_24060\\1530948013.py:4: SyntaxWarning: invalid escape sequence '\\w'\n",
      "  match = re.findall('\\w', string)\n"
     ]
    }
   ],
   "source": [
    "string = \"\"\" hello my number is 123456789 and \n",
    "my friends number is 987654321\"\"\"\n",
    "\n",
    "match = re.findall('\\w', string)\n",
    "print(match)"
   ]
  },
  {
   "cell_type": "code",
   "execution_count": 43,
   "id": "b32869b1",
   "metadata": {},
   "outputs": [
    {
     "name": "stdout",
     "output_type": "stream",
     "text": [
      "['A', 'e', ' ', 's', ' ', 'G', 's', 'e', ' ', 'S']\n"
     ]
    }
   ],
   "source": [
    "\n",
    "p = re.compile('[A, G, S,s, e]')\n",
    "print(p.findall(\"Aye said Mr.Gibsen Stark\"))\n",
    "# A, e, s, G, s, e, S"
   ]
  },
  {
   "cell_type": "code",
   "execution_count": 45,
   "id": "161c0720",
   "metadata": {},
   "outputs": [
    {
     "name": "stdout",
     "output_type": "stream",
     "text": [
      "['A', 'e', ' ', 's', 'a', ' ', 'G', 's', 'e', ' ', 'S', 'a']\n"
     ]
    }
   ],
   "source": [
    "p = re.compile('[A, G, S,a, s, e]')\n",
    "print(p.findall(\"Aye said Mr.Gibsen Stark\"))\n",
    "# A, e, s,a, G, s, e, S"
   ]
  },
  {
   "cell_type": "code",
   "execution_count": 47,
   "id": "7bfeaae6",
   "metadata": {},
   "outputs": [
    {
     "name": "stdout",
     "output_type": "stream",
     "text": [
      "['A', 'e', ' ', 's', 'a', ' ', 'G', 's', 'e', ' ', 'a']\n"
     ]
    }
   ],
   "source": [
    "p = re.compile('[A, G, Z,a, s, e]')\n",
    "print(p.findall(\"Aye said Mr.Gibsen Stark\"))"
   ]
  },
  {
   "cell_type": "code",
   "execution_count": null,
   "id": "b4cfc58c",
   "metadata": {},
   "outputs": [],
   "source": []
  },
  {
   "cell_type": "code",
   "execution_count": null,
   "id": "d6036046",
   "metadata": {},
   "outputs": [],
   "source": []
  },
  {
   "cell_type": "code",
   "execution_count": null,
   "id": "30895d57",
   "metadata": {},
   "outputs": [],
   "source": []
  },
  {
   "cell_type": "code",
   "execution_count": 49,
   "id": "96fd05c5",
   "metadata": {},
   "outputs": [
    {
     "name": "stdout",
     "output_type": "stream",
     "text": [
      "['1', '1', '0', '5', '2', '0', '2', '0']\n"
     ]
    },
    {
     "name": "stderr",
     "output_type": "stream",
     "text": [
      "<>:1: SyntaxWarning: invalid escape sequence '\\d'\n",
      "<>:1: SyntaxWarning: invalid escape sequence '\\d'\n",
      "C:\\Users\\AJANTHA\\AppData\\Local\\Temp\\ipykernel_24060\\1235511821.py:1: SyntaxWarning: invalid escape sequence '\\d'\n",
      "  p = re.compile('\\d') # single digit\n"
     ]
    }
   ],
   "source": [
    "p = re.compile('\\d') # single digit\n",
    "print(p.findall(\"I went to the hospital at 11 a.m on 05th Jan 2020\"))\n",
    "\n"
   ]
  },
  {
   "cell_type": "code",
   "execution_count": 51,
   "id": "93c8fc3e-b86a-413f-a4c2-cf39953fd994",
   "metadata": {},
   "outputs": [
    {
     "name": "stdout",
     "output_type": "stream",
     "text": [
      "['11', '05', '2020']\n"
     ]
    },
    {
     "name": "stderr",
     "output_type": "stream",
     "text": [
      "<>:1: SyntaxWarning: invalid escape sequence '\\d'\n",
      "<>:1: SyntaxWarning: invalid escape sequence '\\d'\n",
      "C:\\Users\\AJANTHA\\AppData\\Local\\Temp\\ipykernel_24060\\3556447760.py:1: SyntaxWarning: invalid escape sequence '\\d'\n",
      "  p = re.compile('\\d+')# digit seq\n"
     ]
    }
   ],
   "source": [
    "p = re.compile('\\d+')# digit seq\n",
    "print(p.findall(\"I went to the hospital at 11 a.m on 05th Jan 2020\"))"
   ]
  },
  {
   "cell_type": "code",
   "execution_count": 53,
   "id": "60af78d8",
   "metadata": {},
   "outputs": [
    {
     "name": "stdout",
     "output_type": "stream",
     "text": [
      "['I', 'w', 'e', 'n', 't', 't', 'o', 't', 'h', 'e', 'h', 'o', 's', 'p', 'i', 't', 'a', 'l', 'a', 't', '1', '1', 'a', 'm', 'o', 'n', '5', 't', 'h', 'J', 'a', 'n', '2', '0', '2', '0']\n",
      "['I', 'went', 'to', 'the', 'hospital', 'at', '11', 'a', 'm', 'on', '5th', 'Jan', '2020']\n"
     ]
    },
    {
     "name": "stderr",
     "output_type": "stream",
     "text": [
      "<>:1: SyntaxWarning: invalid escape sequence '\\w'\n",
      "<>:4: SyntaxWarning: invalid escape sequence '\\w'\n",
      "<>:1: SyntaxWarning: invalid escape sequence '\\w'\n",
      "<>:4: SyntaxWarning: invalid escape sequence '\\w'\n",
      "C:\\Users\\AJANTHA\\AppData\\Local\\Temp\\ipykernel_24060\\537624984.py:1: SyntaxWarning: invalid escape sequence '\\w'\n",
      "  p = re.compile('\\w') # [A-Za-z_0-9]\n",
      "C:\\Users\\AJANTHA\\AppData\\Local\\Temp\\ipykernel_24060\\537624984.py:4: SyntaxWarning: invalid escape sequence '\\w'\n",
      "  p = re.compile('\\w+')# alphanumeric\n"
     ]
    }
   ],
   "source": [
    "p = re.compile('\\w') # [A-Za-z_0-9] single  alphanumeric\n",
    "print(p.findall(\"I went to the hospital at 11 a.m on 5th Jan 2020\")) # without space, single letter\n",
    "\n",
    "p = re.compile('\\w+')# alphanumeric seq\n",
    "print(p.findall(\"I went to the hospital at 11 a.m on 5th Jan 2020\"))# word by word\n",
    "\n"
   ]
  },
  {
   "cell_type": "code",
   "execution_count": 55,
   "id": "f6782262-54f0-449b-883c-e84a571b4f49",
   "metadata": {},
   "outputs": [
    {
     "name": "stdout",
     "output_type": "stream",
     "text": [
      "[' ', ' ', '*', ' ', ' ', ' ', '-', ' ', ' ', ' ', ' ', '.', ' ', '#', ' ', ' ', ' ', '$', ' ', ' ']\n"
     ]
    },
    {
     "name": "stderr",
     "output_type": "stream",
     "text": [
      "<>:1: SyntaxWarning: invalid escape sequence '\\W'\n",
      "<>:1: SyntaxWarning: invalid escape sequence '\\W'\n",
      "C:\\Users\\AJANTHA\\AppData\\Local\\Temp\\ipykernel_24060\\2365085706.py:1: SyntaxWarning: invalid escape sequence '\\W'\n",
      "  p = re.compile('\\W')#non alphanumeric\n"
     ]
    }
   ],
   "source": [
    "p = re.compile('\\W')#non alphanumeric\n",
    "print(p.findall(\"I went * to the - hospital at 11 a.m # on 5th $ Jan 2020\")) # space, symbol\n"
   ]
  },
  {
   "cell_type": "code",
   "execution_count": 57,
   "id": "b5bb4cc0",
   "metadata": {},
   "outputs": [
    {
     "name": "stdout",
     "output_type": "stream",
     "text": [
      "[' ', ' ', '*', ' ', ' ', ' ', '-', ' ', ' ', ' ', ' ', '.', ' ', '#', ' ', ' ', ' ', '$', '$', '$', ' ', ' ', ' ']\n"
     ]
    },
    {
     "name": "stderr",
     "output_type": "stream",
     "text": [
      "<>:1: SyntaxWarning: invalid escape sequence '\\W'\n",
      "<>:1: SyntaxWarning: invalid escape sequence '\\W'\n",
      "C:\\Users\\AJANTHA\\AppData\\Local\\Temp\\ipykernel_24060\\4020689339.py:1: SyntaxWarning: invalid escape sequence '\\W'\n",
      "  p = re.compile('\\W')#non alphanumeric\n"
     ]
    }
   ],
   "source": [
    "p = re.compile('\\W')#non alphanumeric\n",
    "print(p.findall(\"I went * to the - hospital at 11 a.m # on 5th $$$ Jan _ 2020\")) # space, symbol\n"
   ]
  },
  {
   "cell_type": "code",
   "execution_count": 67,
   "id": "fda49efe-852b-430d-9057-5f8ac7ba800d",
   "metadata": {},
   "outputs": [
    {
     "name": "stdout",
     "output_type": "stream",
     "text": [
      "[' ', ' ', ' ', ' ', ' ', ' ', ' ', '.', ' ', ' ', ' ', ' ']\n"
     ]
    },
    {
     "name": "stderr",
     "output_type": "stream",
     "text": [
      "<>:1: SyntaxWarning: invalid escape sequence '\\W'\n",
      "<>:1: SyntaxWarning: invalid escape sequence '\\W'\n",
      "C:\\Users\\AJANTHA\\AppData\\Local\\Temp\\ipykernel_24060\\1408205637.py:1: SyntaxWarning: invalid escape sequence '\\W'\n",
      "  p = re.compile('\\W')#non alphanumeric\n"
     ]
    }
   ],
   "source": [
    "p = re.compile('\\W')#non alphanumeric\n",
    "print(p.findall(\"I went to the hospital at 11 a.m on 5th Jan 2020\")) # space, symbol"
   ]
  },
  {
   "cell_type": "code",
   "execution_count": null,
   "id": "8104c028-6a77-4935-8fd4-c74e8f3112ef",
   "metadata": {},
   "outputs": [],
   "source": []
  },
  {
   "cell_type": "code",
   "execution_count": null,
   "id": "68d5d2cf-c9fd-4035-87db-29a8b22157a8",
   "metadata": {},
   "outputs": [],
   "source": []
  },
  {
   "cell_type": "code",
   "execution_count": 59,
   "id": "336136f5",
   "metadata": {},
   "outputs": [
    {
     "name": "stdout",
     "output_type": "stream",
     "text": [
      "[' ', ' * ', ' ', ' - ', ' ', ' ', ' ', '.', ' # ', ' ', ' $$$ ', ' ', ' ']\n"
     ]
    },
    {
     "name": "stderr",
     "output_type": "stream",
     "text": [
      "<>:1: SyntaxWarning: invalid escape sequence '\\W'\n",
      "<>:1: SyntaxWarning: invalid escape sequence '\\W'\n",
      "C:\\Users\\AJANTHA\\AppData\\Local\\Temp\\ipykernel_24060\\1474289164.py:1: SyntaxWarning: invalid escape sequence '\\W'\n",
      "  p = re.compile('\\W+')#non alphanumeric\n"
     ]
    }
   ],
   "source": [
    "p = re.compile('\\W+')#non alphanumeric\n",
    "print(p.findall(\"I went * to the - hospital at 11 a.m # on 5th $$$ Jan _ 2020\")) # space, symbol\n"
   ]
  },
  {
   "cell_type": "code",
   "execution_count": 65,
   "id": "8b64806d",
   "metadata": {},
   "outputs": [
    {
     "name": "stdout",
     "output_type": "stream",
     "text": [
      "['I', ' ', 'w', 'e', 'n', 't', ' ', 't', 'o', ' ', 't', 'h', 'e', ' ', 'h', 'o', 's', 'p', 'i', 't', 'a', 'l', ' ', 'a', 't', ' ', ' ', 'a', '.', 'm', ' ', 'o', 'n', ' ', 't', 'h', ' ', 'J', 'a', 'n', ' ']\n"
     ]
    },
    {
     "name": "stderr",
     "output_type": "stream",
     "text": [
      "<>:1: SyntaxWarning: invalid escape sequence '\\D'\n",
      "<>:1: SyntaxWarning: invalid escape sequence '\\D'\n",
      "C:\\Users\\AJANTHA\\AppData\\Local\\Temp\\ipykernel_24060\\1525028957.py:1: SyntaxWarning: invalid escape sequence '\\D'\n",
      "  p = re.compile('\\D')\n"
     ]
    }
   ],
   "source": [
    "p = re.compile('\\D')\n",
    "print(p.findall(\"I went to the hospital at 11 a.m on 05th Jan 2020\"))"
   ]
  },
  {
   "cell_type": "code",
   "execution_count": 71,
   "id": "31e0fb7c",
   "metadata": {},
   "outputs": [
    {
     "name": "stdout",
     "output_type": "stream",
     "text": [
      "['I went to the hospital at ', ' ', ' a.m on ', ' th Jan ']\n"
     ]
    },
    {
     "name": "stderr",
     "output_type": "stream",
     "text": [
      "<>:1: SyntaxWarning: invalid escape sequence '\\D'\n",
      "<>:1: SyntaxWarning: invalid escape sequence '\\D'\n",
      "C:\\Users\\AJANTHA\\AppData\\Local\\Temp\\ipykernel_24060\\2332305581.py:1: SyntaxWarning: invalid escape sequence '\\D'\n",
      "  p = re.compile('\\D+') # non digit -> split\n"
     ]
    }
   ],
   "source": [
    "p = re.compile('\\D+') # non digit -> split\n",
    "print(p.findall(\"I went to the hospital at 1 1 a.m on 05 th Jan 2020\"))"
   ]
  },
  {
   "cell_type": "code",
   "execution_count": null,
   "id": "fcc59424",
   "metadata": {},
   "outputs": [],
   "source": [
    "string = \"\"\" hello my number is 123456789 and \n",
    "my friends number is 987654321\"\"\"\n",
    "p = re.compile('\\w+')\n",
    "print(p.findall(string)) # word by word"
   ]
  },
  {
   "cell_type": "code",
   "execution_count": null,
   "id": "969daa45",
   "metadata": {},
   "outputs": [],
   "source": []
  },
  {
   "cell_type": "code",
   "execution_count": 73,
   "id": "deb8a2c0-9298-4be0-8a51-c299e7c8eeec",
   "metadata": {},
   "outputs": [
    {
     "name": "stdin",
     "output_type": "stream",
     "text": [
      "enter three number 12 3 45\n"
     ]
    },
    {
     "ename": "ValueError",
     "evalue": "too many values to unpack (expected 3)",
     "output_type": "error",
     "traceback": [
      "\u001b[1;31m---------------------------------------------------------------------------\u001b[0m",
      "\u001b[1;31mValueError\u001b[0m                                Traceback (most recent call last)",
      "Cell \u001b[1;32mIn[73], line 1\u001b[0m\n\u001b[1;32m----> 1\u001b[0m a,b,c \u001b[38;5;241m=\u001b[39m \u001b[38;5;28minput\u001b[39m(\u001b[38;5;124m\"\u001b[39m\u001b[38;5;124menter three number\u001b[39m\u001b[38;5;124m\"\u001b[39m)\n",
      "\u001b[1;31mValueError\u001b[0m: too many values to unpack (expected 3)"
     ]
    }
   ],
   "source": [
    "a,b,c = input(\"enter three number\")"
   ]
  },
  {
   "cell_type": "code",
   "execution_count": 81,
   "id": "6ff0a685-ece6-4f95-acdb-77bfa525c076",
   "metadata": {},
   "outputs": [
    {
     "name": "stdin",
     "output_type": "stream",
     "text": [
      "enter the value 23\n"
     ]
    }
   ],
   "source": [
    "a = int(input(\"enter the value\")) # type casting\n"
   ]
  },
  {
   "cell_type": "code",
   "execution_count": 83,
   "id": "05b15322-9399-4476-8cc9-91f1175ddd94",
   "metadata": {},
   "outputs": [
    {
     "data": {
      "text/plain": [
       "int"
      ]
     },
     "execution_count": 83,
     "metadata": {},
     "output_type": "execute_result"
    }
   ],
   "source": [
    "type(a)"
   ]
  },
  {
   "cell_type": "code",
   "execution_count": 85,
   "id": "38c4e052-a327-465f-8390-e02a1ffc393a",
   "metadata": {},
   "outputs": [
    {
     "name": "stdin",
     "output_type": "stream",
     "text": [
      "enter ur name, age, phone ajantha 90 1234576866969\n"
     ]
    }
   ],
   "source": [
    "# multi value => type cast not possible\n",
    "\n",
    "name, age, phone = input(\"enter ur name, age, phone\").split() # space"
   ]
  },
  {
   "cell_type": "code",
   "execution_count": 87,
   "id": "a4a3d9dd-ec83-4dfe-abfd-9e46c1e2faad",
   "metadata": {},
   "outputs": [
    {
     "name": "stdout",
     "output_type": "stream",
     "text": [
      "ajantha\n"
     ]
    }
   ],
   "source": [
    "print(name)"
   ]
  },
  {
   "cell_type": "code",
   "execution_count": 89,
   "id": "f290c193-8c1e-4c0f-8575-88eaf4c07f8b",
   "metadata": {},
   "outputs": [
    {
     "name": "stdin",
     "output_type": "stream",
     "text": [
      "enter ur name, age, phone ajantha devi 98 9347093709470923\n"
     ]
    },
    {
     "ename": "ValueError",
     "evalue": "too many values to unpack (expected 3)",
     "output_type": "error",
     "traceback": [
      "\u001b[1;31m---------------------------------------------------------------------------\u001b[0m",
      "\u001b[1;31mValueError\u001b[0m                                Traceback (most recent call last)",
      "Cell \u001b[1;32mIn[89], line 1\u001b[0m\n\u001b[1;32m----> 1\u001b[0m name, age, phone \u001b[38;5;241m=\u001b[39m \u001b[38;5;28minput\u001b[39m(\u001b[38;5;124m\"\u001b[39m\u001b[38;5;124menter ur name, age, phone\u001b[39m\u001b[38;5;124m\"\u001b[39m)\u001b[38;5;241m.\u001b[39msplit()\n",
      "\u001b[1;31mValueError\u001b[0m: too many values to unpack (expected 3)"
     ]
    }
   ],
   "source": [
    "name, age, phone = input(\"enter ur name, age, phone\").split() # space"
   ]
  },
  {
   "cell_type": "code",
   "execution_count": 95,
   "id": "7775ff01-d2fa-4ec0-b167-d17a845357da",
   "metadata": {},
   "outputs": [
    {
     "name": "stdin",
     "output_type": "stream",
     "text": [
      "enter ur name, age, phone sepe with # ajantha devi#99#1289731287398\n"
     ]
    }
   ],
   "source": [
    "name, age, phone = input(\"enter ur name, age, phone sepe with #\").split('#') # "
   ]
  },
  {
   "cell_type": "code",
   "execution_count": 97,
   "id": "d97c02e0-cd97-46af-a642-1ba953cd16ef",
   "metadata": {},
   "outputs": [
    {
     "name": "stdout",
     "output_type": "stream",
     "text": [
      "ajantha devi\n"
     ]
    }
   ],
   "source": [
    "print(name)"
   ]
  },
  {
   "cell_type": "code",
   "execution_count": null,
   "id": "d34d114f",
   "metadata": {},
   "outputs": [],
   "source": [
    "#split('*')"
   ]
  },
  {
   "cell_type": "code",
   "execution_count": 101,
   "id": "7e1a2ec8",
   "metadata": {},
   "outputs": [
    {
     "name": "stdout",
     "output_type": "stream",
     "text": [
      "['words', 'Words', 'word', \"s, Word's\"]\n"
     ]
    },
    {
     "name": "stderr",
     "output_type": "stream",
     "text": [
      "<>:7: SyntaxWarning: invalid escape sequence '\\W'\n",
      "<>:7: SyntaxWarning: invalid escape sequence '\\W'\n",
      "C:\\Users\\AJANTHA\\AppData\\Local\\Temp\\ipykernel_24060\\1401722507.py:7: SyntaxWarning: invalid escape sequence '\\W'\n",
      "  print(split('\\W+', \"words, Words, word's, Word's\",  maxsplit =3))# , space  '\n"
     ]
    }
   ],
   "source": [
    "# re.split(pattern, string, maxsplit =0, flags = 0)\n",
    "import warnings\n",
    "warnings.filterwarnings('ignore')\n",
    "\n",
    "from re import split\n",
    "\n",
    "print(split('\\W+', \"words, Words, word's, Word's\",  maxsplit =3))# , space  '"
   ]
  },
  {
   "cell_type": "code",
   "execution_count": 103,
   "id": "97ec520f",
   "metadata": {},
   "outputs": [
    {
     "name": "stdout",
     "output_type": "stream",
     "text": [
      "['words', 'Words', 'word', 's, Word#s']\n"
     ]
    }
   ],
   "source": [
    "print(split('\\W+', \"words, Words, word#s, Word#s\",  maxsplit =3))"
   ]
  },
  {
   "cell_type": "code",
   "execution_count": 105,
   "id": "c76dc05f",
   "metadata": {},
   "outputs": [
    {
     "name": "stdout",
     "output_type": "stream",
     "text": [
      "['words', 'Words', 'word', 's', 'Word', 's']\n"
     ]
    }
   ],
   "source": [
    "print(split('\\W+', \"words, Words, word#s, Word#s\",  maxsplit =5))"
   ]
  },
  {
   "cell_type": "code",
   "execution_count": 107,
   "id": "4b526bc2",
   "metadata": {},
   "outputs": [
    {
     "name": "stdout",
     "output_type": "stream",
     "text": [
      "['words', 'Words', 'word', 's', 'Word', 's']\n"
     ]
    }
   ],
   "source": [
    "print(split('\\W+', \"words, Words, word#s, Word#s\",  maxsplit =7))"
   ]
  },
  {
   "cell_type": "code",
   "execution_count": null,
   "id": "5bdc9587",
   "metadata": {},
   "outputs": [],
   "source": [
    "# w => a-z, A-Z, 0-9, _"
   ]
  },
  {
   "cell_type": "code",
   "execution_count": 109,
   "id": "794fc16f",
   "metadata": {},
   "outputs": [
    {
     "name": "stdout",
     "output_type": "stream",
     "text": [
      "['On', '12th', 'Jan', '2020', 'at', '11', '02', 'a', 'm']\n"
     ]
    }
   ],
   "source": [
    "print(split('\\W+', \"On 12th Jan 2020, at 11.02 a.m\")) # space , ."
   ]
  },
  {
   "cell_type": "code",
   "execution_count": 113,
   "id": "2312cd19",
   "metadata": {},
   "outputs": [
    {
     "name": "stdout",
     "output_type": "stream",
     "text": [
      "['On', '12th', 'Jan', '2020', 'at', '11', '02', 'a.#####m']\n"
     ]
    }
   ],
   "source": [
    "print(split('\\W+', \"On 12th Jan 2020, at 11.02 a.#####m\", maxsplit = 7))"
   ]
  },
  {
   "cell_type": "code",
   "execution_count": 115,
   "id": "920a60e2",
   "metadata": {},
   "outputs": [
    {
     "name": "stdout",
     "output_type": "stream",
     "text": [
      "['On', '12th', 'Jan', '2020', 'at', '11.02 a.m']\n"
     ]
    }
   ],
   "source": [
    "print(split('\\W+', \"On 12th Jan 2020, at 11.02 a.m\", maxsplit = 5))"
   ]
  },
  {
   "cell_type": "code",
   "execution_count": 117,
   "id": "537dd227",
   "metadata": {},
   "outputs": [
    {
     "name": "stdout",
     "output_type": "stream",
     "text": [
      "S~*ject has ~*er booked already\n"
     ]
    }
   ],
   "source": [
    "# re.sub(pattern, repl, string, count =0, flags = 0)\n",
    "\n",
    "print(re.sub('ub', \"~*\", \"Subject has Uber booked already\", flags=re.IGNORECASE))"
   ]
  },
  {
   "cell_type": "code",
   "execution_count": 119,
   "id": "b46f0e0b",
   "metadata": {},
   "outputs": [
    {
     "name": "stdout",
     "output_type": "stream",
     "text": [
      "S~*ject has ~*er booked already\n"
     ]
    }
   ],
   "source": [
    "print(re.sub('UB', \"~*\", \"Subject has Uber booked already\", flags=re.IGNORECASE))"
   ]
  },
  {
   "cell_type": "code",
   "execution_count": 121,
   "id": "b9379cb5",
   "metadata": {},
   "outputs": [
    {
     "name": "stdout",
     "output_type": "stream",
     "text": [
      "S~*ject has Uber booked already\n"
     ]
    }
   ],
   "source": [
    "print(re.sub('ub', \"~*\", \"Subject has Uber booked already\"))"
   ]
  },
  {
   "cell_type": "code",
   "execution_count": 123,
   "id": "a61e0dfb",
   "metadata": {},
   "outputs": [
    {
     "name": "stdout",
     "output_type": "stream",
     "text": [
      "S####ject has \"Ubers\" booked already\n"
     ]
    }
   ],
   "source": [
    "\n",
    "print(re.sub('ub', '####', 'Subject has \"Ubers\" booked already'))"
   ]
  },
  {
   "cell_type": "code",
   "execution_count": 125,
   "id": "53bd45e7",
   "metadata": {},
   "outputs": [
    {
     "name": "stdout",
     "output_type": "stream",
     "text": [
      "S~*ject has ~*er booked already ~*er\n"
     ]
    }
   ],
   "source": [
    "print(re.sub('ub', \"~*\", \"Subject has Uber booked already uber\",flags=re.IGNORECASE)) # count => occurs"
   ]
  },
  {
   "cell_type": "code",
   "execution_count": null,
   "id": "141c97dd",
   "metadata": {},
   "outputs": [],
   "source": []
  }
 ],
 "metadata": {
  "kernelspec": {
   "display_name": "Python [conda env:base] *",
   "language": "python",
   "name": "conda-base-py"
  },
  "language_info": {
   "codemirror_mode": {
    "name": "ipython",
    "version": 3
   },
   "file_extension": ".py",
   "mimetype": "text/x-python",
   "name": "python",
   "nbconvert_exporter": "python",
   "pygments_lexer": "ipython3",
   "version": "3.12.4"
  }
 },
 "nbformat": 4,
 "nbformat_minor": 5
}
