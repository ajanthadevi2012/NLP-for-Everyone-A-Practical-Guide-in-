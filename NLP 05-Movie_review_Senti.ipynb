{
 "cells": [
  {
   "cell_type": "markdown",
   "id": "090a674b-7169-4e86-97d9-feb828beffe5",
   "metadata": {},
   "source": [
    "<h1 style=\"font-size:250%; font-family:cursive; \"><b>Movie_review_Sentimental_Analysis - Detailed Video in my YouTube Channel</b><a id=\"0\"></a></h1>\n",
    "\n",
    "\n",
    "<a href=\"https://youtu.be/hTZL4baU1iM\"><h1 style=\"font-size:250%; font-family:cursive; color:#ff6666;\"><b>Link to this Video Tutorial</b></h1></a>"
   ]
  },
  {
   "cell_type": "code",
   "execution_count": 1,
   "id": "db4d0b62-eddc-4459-b6df-906a4f7d2b0f",
   "metadata": {},
   "outputs": [],
   "source": [
    "import nltk"
   ]
  },
  {
   "cell_type": "code",
   "execution_count": 3,
   "id": "71a0e4ce-5841-4eb3-8654-630b21129ef4",
   "metadata": {},
   "outputs": [
    {
     "name": "stderr",
     "output_type": "stream",
     "text": [
      "[nltk_data] Downloading package movie_reviews to\n",
      "[nltk_data]     C:\\Users\\AJANTHA\\AppData\\Roaming\\nltk_data...\n",
      "[nltk_data]   Package movie_reviews is already up-to-date!\n"
     ]
    },
    {
     "data": {
      "text/plain": [
       "True"
      ]
     },
     "execution_count": 3,
     "metadata": {},
     "output_type": "execute_result"
    }
   ],
   "source": [
    "nltk.download(\"movie_reviews\")"
   ]
  },
  {
   "cell_type": "code",
   "execution_count": 5,
   "id": "38170237-345d-4692-8506-c810009b3252",
   "metadata": {},
   "outputs": [],
   "source": [
    "# nltk.download()"
   ]
  },
  {
   "cell_type": "code",
   "execution_count": 7,
   "id": "49d94990-4238-497b-b155-7c120d6ebfae",
   "metadata": {},
   "outputs": [],
   "source": [
    "from nltk.corpus import movie_reviews"
   ]
  },
  {
   "cell_type": "code",
   "execution_count": 9,
   "id": "23684b87-f1b3-47a0-bb28-e34bb4e17234",
   "metadata": {},
   "outputs": [
    {
     "data": {
      "text/plain": [
       "2000"
      ]
     },
     "execution_count": 9,
     "metadata": {},
     "output_type": "execute_result"
    }
   ],
   "source": [
    "len(movie_reviews.fileids())"
   ]
  },
  {
   "cell_type": "code",
   "execution_count": 11,
   "id": "4d2049ba-886a-458c-a549-1e3529f73e5c",
   "metadata": {},
   "outputs": [
    {
     "data": {
      "text/plain": [
       "['neg/cv000_29416.txt',\n",
       " 'neg/cv001_19502.txt',\n",
       " 'neg/cv002_17424.txt',\n",
       " 'neg/cv003_12683.txt',\n",
       " 'neg/cv004_12641.txt']"
      ]
     },
     "execution_count": 11,
     "metadata": {},
     "output_type": "execute_result"
    }
   ],
   "source": [
    "movie_reviews.fileids()[:5]\n"
   ]
  },
  {
   "cell_type": "code",
   "execution_count": 13,
   "id": "e69a471a-f9b7-483d-ac12-b041faf32414",
   "metadata": {},
   "outputs": [
    {
     "data": {
      "text/plain": [
       "['pos/cv995_21821.txt',\n",
       " 'pos/cv996_11592.txt',\n",
       " 'pos/cv997_5046.txt',\n",
       " 'pos/cv998_14111.txt',\n",
       " 'pos/cv999_13106.txt']"
      ]
     },
     "execution_count": 13,
     "metadata": {},
     "output_type": "execute_result"
    }
   ],
   "source": [
    "movie_reviews.fileids()[-5:]"
   ]
  },
  {
   "cell_type": "code",
   "execution_count": 15,
   "id": "a2b0d030-81bc-47c1-83af-3b66d748af0a",
   "metadata": {},
   "outputs": [],
   "source": [
    "neg_fileids = movie_reviews.fileids('neg')\n",
    "pos_fileids = movie_reviews.fileids('pos')"
   ]
  },
  {
   "cell_type": "code",
   "execution_count": 17,
   "id": "2318bc1a-434b-45f8-bd35-f6318fdd7d96",
   "metadata": {},
   "outputs": [
    {
     "data": {
      "text/plain": [
       "1000"
      ]
     },
     "execution_count": 17,
     "metadata": {},
     "output_type": "execute_result"
    }
   ],
   "source": [
    "len(neg_fileids)"
   ]
  },
  {
   "cell_type": "code",
   "execution_count": 19,
   "id": "a17dfe8e-1804-4e1d-a471-b3718cebd598",
   "metadata": {},
   "outputs": [
    {
     "data": {
      "text/plain": [
       "1000"
      ]
     },
     "execution_count": 19,
     "metadata": {},
     "output_type": "execute_result"
    }
   ],
   "source": [
    "len(pos_fileids)"
   ]
  },
  {
   "cell_type": "code",
   "execution_count": 21,
   "id": "60435cda-d072-41e6-a1c7-43f9db089ece",
   "metadata": {},
   "outputs": [
    {
     "name": "stdout",
     "output_type": "stream",
     "text": [
      "films adapted from comic books have had plenty of success , whether they're about superheroes ( batman , superman , spawn ) , or geared toward kids ( casper ) or the arthouse crowd ( ghost world ) , but there's never really been a comic book like from hell before . \n",
      "for starters , it was created by alan moore ( and eddie campbell ) , who brought the medium to a whole new level in the mid '80s with a 12-part series called the watchmen . \n",
      "to say moore and campbell thoroughly researched the subject of jack the ripper would be like saying michael jackson is starting to look a little odd . \n",
      "the book ( or \" graphic novel , \" if you will ) is over 500 pages long and includes nearly 30 more that consist of nothing but footnotes . \n",
      "in other words , don't dismiss this film because of its source . \n",
      "if you can get past the whole comic book thing , you might find another stumbling block in from hell's directors , albert and allen hughes . \n",
      "getting the hughes brothers to direct this seems almost as ludicrous as casting carrot top in , well , anything , but riddle me this : who better to direct a film that's set in the ghetto and features really violent street crime than the mad geniuses behind menace ii society ? \n",
      "the ghetto in question is , of course , whitechapel in 1888 london's east end . \n",
      "it's a filthy , sooty place where the whores ( called \" unfortunates \" ) are starting to get a little nervous about this mysterious psychopath who has been carving through their profession with surgical precision . \n",
      "when the first stiff turns up , copper peter godley ( robbie coltrane , the world is not enough ) calls in inspector frederick abberline ( johnny depp , blow ) to crack the case . \n",
      "abberline , a widower , has prophetic dreams he unsuccessfully tries to quell with copious amounts of absinthe and opium . \n",
      "upon arriving in whitechapel , he befriends an unfortunate named mary kelly ( heather graham , say it isn't so ) and proceeds to investigate the horribly gruesome crimes that even the police surgeon can't stomach . \n",
      "i don't think anyone needs to be briefed on jack the ripper , so i won't go into the particulars here , other than to say moore and campbell have a unique and interesting theory about both the identity of the killer and the reasons he chooses to slay . \n",
      "in the comic , they don't bother cloaking the identity of the ripper , but screenwriters terry hayes ( vertical limit ) and rafael yglesias ( les mis ? rables ) do a good job of keeping him hidden from viewers until the very end . \n",
      "it's funny to watch the locals blindly point the finger of blame at jews and indians because , after all , an englishman could never be capable of committing such ghastly acts . \n",
      "and from hell's ending had me whistling the stonecutters song from the simpsons for days ( \" who holds back the electric car/who made steve guttenberg a star ? \" ) . \n",
      "don't worry - it'll all make sense when you see it . \n",
      "now onto from hell's appearance : it's certainly dark and bleak enough , and it's surprising to see how much more it looks like a tim burton film than planet of the apes did ( at times , it seems like sleepy hollow 2 ) . \n",
      "the print i saw wasn't completely finished ( both color and music had not been finalized , so no comments about marilyn manson ) , but cinematographer peter deming ( don't say a word ) ably captures the dreariness of victorian-era london and helped make the flashy killing scenes remind me of the crazy flashbacks in twin peaks , even though the violence in the film pales in comparison to that in the black-and-white comic . \n",
      "oscar winner martin childs' ( shakespeare in love ) production design turns the original prague surroundings into one creepy place . \n",
      "even the acting in from hell is solid , with the dreamy depp turning in a typically strong performance and deftly handling a british accent . \n",
      "ians holm ( joe gould's secret ) and richardson ( 102 dalmatians ) log in great supporting roles , but the big surprise here is graham . \n",
      "i cringed the first time she opened her mouth , imagining her attempt at an irish accent , but it actually wasn't half bad . \n",
      "the film , however , is all good . \n",
      "2 : 00 - r for strong violence/gore , sexuality , language and drug content \n",
      "\n"
     ]
    }
   ],
   "source": [
    "print(movie_reviews.raw(fileids = pos_fileids[0]))"
   ]
  },
  {
   "cell_type": "markdown",
   "id": "bb02f0f6-3476-48fb-b7b9-a51b1323ae74",
   "metadata": {},
   "source": [
    "Tokenize"
   ]
  },
  {
   "cell_type": "code",
   "execution_count": 24,
   "id": "873edcad-ccd9-4736-8c22-250f0c530a40",
   "metadata": {},
   "outputs": [],
   "source": [
    "romeo_text = \"\"\"The course of true love never did run smooth; But, either it was different in blood,\n",
    "O cross! too high to be enthrall’d to low.\n",
    "Or else misgraffed in respect of years,\n",
    "O spite! too old to be engag’d to young.\n",
    "Or else it stood upon the choice of friends,\n",
    "O hell! to choose love by another’s eye.\"\"\""
   ]
  },
  {
   "cell_type": "code",
   "execution_count": 26,
   "id": "1f3c410a-012e-47b9-82dd-eecb945483b4",
   "metadata": {},
   "outputs": [
    {
     "data": {
      "text/plain": [
       "['The',\n",
       " 'course',\n",
       " 'of',\n",
       " 'true',\n",
       " 'love',\n",
       " 'never',\n",
       " 'did',\n",
       " 'run',\n",
       " 'smooth;',\n",
       " 'But,',\n",
       " 'either',\n",
       " 'it',\n",
       " 'was',\n",
       " 'different',\n",
       " 'in',\n",
       " 'blood,',\n",
       " 'O',\n",
       " 'cross!',\n",
       " 'too',\n",
       " 'high',\n",
       " 'to',\n",
       " 'be',\n",
       " 'enthrall’d',\n",
       " 'to',\n",
       " 'low.',\n",
       " 'Or',\n",
       " 'else',\n",
       " 'misgraffed',\n",
       " 'in',\n",
       " 'respect',\n",
       " 'of',\n",
       " 'years,',\n",
       " 'O',\n",
       " 'spite!',\n",
       " 'too',\n",
       " 'old',\n",
       " 'to',\n",
       " 'be',\n",
       " 'engag’d',\n",
       " 'to',\n",
       " 'young.',\n",
       " 'Or',\n",
       " 'else',\n",
       " 'it',\n",
       " 'stood',\n",
       " 'upon',\n",
       " 'the',\n",
       " 'choice',\n",
       " 'of',\n",
       " 'friends,',\n",
       " 'O',\n",
       " 'hell!',\n",
       " 'to',\n",
       " 'choose',\n",
       " 'love',\n",
       " 'by',\n",
       " 'another’s',\n",
       " 'eye.']"
      ]
     },
     "execution_count": 26,
     "metadata": {},
     "output_type": "execute_result"
    }
   ],
   "source": [
    "romeo_text.split()"
   ]
  },
  {
   "cell_type": "code",
   "execution_count": 28,
   "id": "04338c16-6a71-4d0f-a239-be463ad4f1ba",
   "metadata": {},
   "outputs": [
    {
     "name": "stderr",
     "output_type": "stream",
     "text": [
      "[nltk_data] Downloading package punkt to\n",
      "[nltk_data]     C:\\Users\\AJANTHA\\AppData\\Roaming\\nltk_data...\n",
      "[nltk_data]   Package punkt is already up-to-date!\n"
     ]
    },
    {
     "data": {
      "text/plain": [
       "True"
      ]
     },
     "execution_count": 28,
     "metadata": {},
     "output_type": "execute_result"
    }
   ],
   "source": [
    "nltk.download(\"punkt\")"
   ]
  },
  {
   "cell_type": "code",
   "execution_count": 32,
   "id": "8173e834-0058-4da8-86a2-cd56dab3d05c",
   "metadata": {},
   "outputs": [
    {
     "name": "stderr",
     "output_type": "stream",
     "text": [
      "[nltk_data] Downloading package punkt_tab to\n",
      "[nltk_data]     C:\\Users\\AJANTHA\\AppData\\Roaming\\nltk_data...\n",
      "[nltk_data]   Unzipping tokenizers\\punkt_tab.zip.\n"
     ]
    },
    {
     "data": {
      "text/plain": [
       "True"
      ]
     },
     "execution_count": 32,
     "metadata": {},
     "output_type": "execute_result"
    }
   ],
   "source": [
    "nltk.download('punkt_tab')"
   ]
  },
  {
   "cell_type": "code",
   "execution_count": 34,
   "id": "bc71a88f-a995-40ce-a1a2-b6ccaf1916bd",
   "metadata": {},
   "outputs": [
    {
     "data": {
      "text/plain": [
       "['The',\n",
       " 'course',\n",
       " 'of',\n",
       " 'true',\n",
       " 'love',\n",
       " 'never',\n",
       " 'did',\n",
       " 'run',\n",
       " 'smooth',\n",
       " ';',\n",
       " 'But',\n",
       " ',',\n",
       " 'either',\n",
       " 'it',\n",
       " 'was',\n",
       " 'different',\n",
       " 'in',\n",
       " 'blood',\n",
       " ',',\n",
       " 'O',\n",
       " 'cross',\n",
       " '!',\n",
       " 'too',\n",
       " 'high',\n",
       " 'to',\n",
       " 'be',\n",
       " 'enthrall',\n",
       " '’',\n",
       " 'd',\n",
       " 'to',\n",
       " 'low',\n",
       " '.',\n",
       " 'Or',\n",
       " 'else',\n",
       " 'misgraffed',\n",
       " 'in',\n",
       " 'respect',\n",
       " 'of',\n",
       " 'years',\n",
       " ',',\n",
       " 'O',\n",
       " 'spite',\n",
       " '!',\n",
       " 'too',\n",
       " 'old',\n",
       " 'to',\n",
       " 'be',\n",
       " 'engag',\n",
       " '’',\n",
       " 'd',\n",
       " 'to',\n",
       " 'young',\n",
       " '.',\n",
       " 'Or',\n",
       " 'else',\n",
       " 'it',\n",
       " 'stood',\n",
       " 'upon',\n",
       " 'the',\n",
       " 'choice',\n",
       " 'of',\n",
       " 'friends',\n",
       " ',',\n",
       " 'O',\n",
       " 'hell',\n",
       " '!',\n",
       " 'to',\n",
       " 'choose',\n",
       " 'love',\n",
       " 'by',\n",
       " 'another',\n",
       " '’',\n",
       " 's',\n",
       " 'eye',\n",
       " '.']"
      ]
     },
     "execution_count": 34,
     "metadata": {},
     "output_type": "execute_result"
    }
   ],
   "source": [
    "romeo_words = nltk.word_tokenize(romeo_text)\n",
    "romeo_words"
   ]
  },
  {
   "cell_type": "code",
   "execution_count": 36,
   "id": "580ec83e-568b-426a-9bd4-5c26ce40f74a",
   "metadata": {},
   "outputs": [
    {
     "data": {
      "text/plain": [
       "['films', 'adapted', 'from', 'comic', 'books', 'have', ...]"
      ]
     },
     "execution_count": 36,
     "metadata": {},
     "output_type": "execute_result"
    }
   ],
   "source": [
    "movie_reviews.words(fileids = pos_fileids[0])"
   ]
  },
  {
   "cell_type": "markdown",
   "id": "c6b13943-c0d6-428a-956d-dabfc6a51422",
   "metadata": {},
   "source": [
    "Bag of Words"
   ]
  },
  {
   "cell_type": "code",
   "execution_count": 39,
   "id": "1060eae0-a34a-4185-a5be-8365c8368562",
   "metadata": {},
   "outputs": [
    {
     "data": {
      "text/plain": [
       "{'The': True,\n",
       " 'course': True,\n",
       " 'of': True,\n",
       " 'true': True,\n",
       " 'love': True,\n",
       " 'never': True,\n",
       " 'did': True,\n",
       " 'run': True,\n",
       " 'smooth': True,\n",
       " ';': True,\n",
       " 'But': True,\n",
       " ',': True,\n",
       " 'either': True,\n",
       " 'it': True,\n",
       " 'was': True,\n",
       " 'different': True,\n",
       " 'in': True,\n",
       " 'blood': True,\n",
       " 'O': True,\n",
       " 'cross': True,\n",
       " '!': True,\n",
       " 'too': True,\n",
       " 'high': True,\n",
       " 'to': True,\n",
       " 'be': True,\n",
       " 'enthrall': True,\n",
       " '’': True,\n",
       " 'd': True,\n",
       " 'low': True,\n",
       " '.': True,\n",
       " 'Or': True,\n",
       " 'else': True,\n",
       " 'misgraffed': True,\n",
       " 'respect': True,\n",
       " 'years': True,\n",
       " 'spite': True,\n",
       " 'old': True,\n",
       " 'engag': True,\n",
       " 'young': True,\n",
       " 'stood': True,\n",
       " 'upon': True,\n",
       " 'the': True,\n",
       " 'choice': True,\n",
       " 'friends': True,\n",
       " 'hell': True,\n",
       " 'choose': True,\n",
       " 'by': True,\n",
       " 'another': True,\n",
       " 's': True,\n",
       " 'eye': True}"
      ]
     },
     "execution_count": 39,
     "metadata": {},
     "output_type": "execute_result"
    }
   ],
   "source": [
    "{word: True for word in romeo_words}"
   ]
  },
  {
   "cell_type": "code",
   "execution_count": 41,
   "id": "9b34858d-c583-443e-94dc-a8947a66dca5",
   "metadata": {},
   "outputs": [
    {
     "data": {
      "text/plain": [
       "str"
      ]
     },
     "execution_count": 41,
     "metadata": {},
     "output_type": "execute_result"
    }
   ],
   "source": [
    "type(_)"
   ]
  },
  {
   "cell_type": "code",
   "execution_count": 43,
   "id": "6c2dc229-53f0-4318-bf87-4ffb9e63e0c7",
   "metadata": {},
   "outputs": [],
   "source": [
    "def build_bag_of_words_features(words):\n",
    "    return {word:True for word in words}"
   ]
  },
  {
   "cell_type": "code",
   "execution_count": 45,
   "id": "05f1b525-d6f3-4b32-a847-9ec0df47c907",
   "metadata": {},
   "outputs": [
    {
     "data": {
      "text/plain": [
       "{'The': True,\n",
       " 'course': True,\n",
       " 'of': True,\n",
       " 'true': True,\n",
       " 'love': True,\n",
       " 'never': True,\n",
       " 'did': True,\n",
       " 'run': True,\n",
       " 'smooth': True,\n",
       " ';': True,\n",
       " 'But': True,\n",
       " ',': True,\n",
       " 'either': True,\n",
       " 'it': True,\n",
       " 'was': True,\n",
       " 'different': True,\n",
       " 'in': True,\n",
       " 'blood': True,\n",
       " 'O': True,\n",
       " 'cross': True,\n",
       " '!': True,\n",
       " 'too': True,\n",
       " 'high': True,\n",
       " 'to': True,\n",
       " 'be': True,\n",
       " 'enthrall': True,\n",
       " '’': True,\n",
       " 'd': True,\n",
       " 'low': True,\n",
       " '.': True,\n",
       " 'Or': True,\n",
       " 'else': True,\n",
       " 'misgraffed': True,\n",
       " 'respect': True,\n",
       " 'years': True,\n",
       " 'spite': True,\n",
       " 'old': True,\n",
       " 'engag': True,\n",
       " 'young': True,\n",
       " 'stood': True,\n",
       " 'upon': True,\n",
       " 'the': True,\n",
       " 'choice': True,\n",
       " 'friends': True,\n",
       " 'hell': True,\n",
       " 'choose': True,\n",
       " 'by': True,\n",
       " 'another': True,\n",
       " 's': True,\n",
       " 'eye': True}"
      ]
     },
     "execution_count": 45,
     "metadata": {},
     "output_type": "execute_result"
    }
   ],
   "source": [
    "build_bag_of_words_features(romeo_words)"
   ]
  },
  {
   "cell_type": "code",
   "execution_count": 47,
   "id": "e4198953-27b8-4759-9a40-a0f33ff2cbb7",
   "metadata": {},
   "outputs": [
    {
     "name": "stderr",
     "output_type": "stream",
     "text": [
      "[nltk_data] Downloading package stopwords to\n",
      "[nltk_data]     C:\\Users\\AJANTHA\\AppData\\Roaming\\nltk_data...\n",
      "[nltk_data]   Package stopwords is already up-to-date!\n"
     ]
    },
    {
     "data": {
      "text/plain": [
       "True"
      ]
     },
     "execution_count": 47,
     "metadata": {},
     "output_type": "execute_result"
    }
   ],
   "source": [
    "nltk.download(\"stopwords\")"
   ]
  },
  {
   "cell_type": "code",
   "execution_count": 49,
   "id": "00378554-528e-4973-b91e-b5b4bef08cc8",
   "metadata": {},
   "outputs": [],
   "source": [
    "import string"
   ]
  },
  {
   "cell_type": "code",
   "execution_count": 51,
   "id": "2c645d18-ae9b-4c20-a6cb-0ea2a728470a",
   "metadata": {},
   "outputs": [
    {
     "data": {
      "text/plain": [
       "'!\"#$%&\\'()*+,-./:;<=>?@[\\\\]^_`{|}~'"
      ]
     },
     "execution_count": 51,
     "metadata": {},
     "output_type": "execute_result"
    }
   ],
   "source": [
    "string.punctuation"
   ]
  },
  {
   "cell_type": "code",
   "execution_count": 53,
   "id": "b0d8d695-276f-4b9c-9f45-3116ea1a2720",
   "metadata": {},
   "outputs": [],
   "source": [
    "useless_words = nltk.corpus.stopwords.words(\"english\")+list(string.punctuation) "
   ]
  },
  {
   "cell_type": "code",
   "execution_count": 55,
   "id": "6ff36d76-e4c1-4f9a-bd9e-d7fff3cfac66",
   "metadata": {},
   "outputs": [],
   "source": [
    "def build_bag_of_words_features_filtered(words):\n",
    "    return {word:True for word in words\\\n",
    "           if not word in useless_words}"
   ]
  },
  {
   "cell_type": "code",
   "execution_count": 57,
   "id": "72510f8d-5062-4c2e-a81b-4327c553ec12",
   "metadata": {},
   "outputs": [
    {
     "data": {
      "text/plain": [
       "{'The': True,\n",
       " 'course': True,\n",
       " 'true': True,\n",
       " 'love': True,\n",
       " 'never': True,\n",
       " 'run': True,\n",
       " 'smooth': True,\n",
       " 'But': True,\n",
       " 'either': True,\n",
       " 'different': True,\n",
       " 'blood': True,\n",
       " 'O': True,\n",
       " 'cross': True,\n",
       " 'high': True,\n",
       " 'enthrall': True,\n",
       " '’': True,\n",
       " 'low': True,\n",
       " 'Or': True,\n",
       " 'else': True,\n",
       " 'misgraffed': True,\n",
       " 'respect': True,\n",
       " 'years': True,\n",
       " 'spite': True,\n",
       " 'old': True,\n",
       " 'engag': True,\n",
       " 'young': True,\n",
       " 'stood': True,\n",
       " 'upon': True,\n",
       " 'choice': True,\n",
       " 'friends': True,\n",
       " 'hell': True,\n",
       " 'choose': True,\n",
       " 'another': True,\n",
       " 'eye': True}"
      ]
     },
     "execution_count": 57,
     "metadata": {},
     "output_type": "execute_result"
    }
   ],
   "source": [
    "build_bag_of_words_features_filtered(romeo_words)"
   ]
  },
  {
   "cell_type": "code",
   "execution_count": 59,
   "id": "d121edee-8678-4ca1-a224-74d5e51bee7e",
   "metadata": {},
   "outputs": [
    {
     "data": {
      "text/plain": [
       "1.58382"
      ]
     },
     "execution_count": 59,
     "metadata": {},
     "output_type": "execute_result"
    }
   ],
   "source": [
    "all_words = movie_reviews.words()\n",
    "len(all_words)/1e6 # million"
   ]
  },
  {
   "cell_type": "code",
   "execution_count": 61,
   "id": "dd85c89f-af19-46b0-a7f6-b62643ee902d",
   "metadata": {},
   "outputs": [
    {
     "data": {
      "text/plain": [
       "15.8382"
      ]
     },
     "execution_count": 61,
     "metadata": {},
     "output_type": "execute_result"
    }
   ],
   "source": [
    "len(all_words)/1e5"
   ]
  },
  {
   "cell_type": "code",
   "execution_count": 63,
   "id": "1984df62-717f-4f81-9335-79652a04db82",
   "metadata": {},
   "outputs": [],
   "source": [
    "filtered_words = [word for word in movie_reviews.words()\\\n",
    "           if not word in useless_words]"
   ]
  },
  {
   "cell_type": "code",
   "execution_count": 65,
   "id": "b3514f24-b54f-4b6c-a510-8a3601fa4ea0",
   "metadata": {},
   "outputs": [
    {
     "data": {
      "text/plain": [
       "list"
      ]
     },
     "execution_count": 65,
     "metadata": {},
     "output_type": "execute_result"
    }
   ],
   "source": [
    "type(filtered_words)"
   ]
  },
  {
   "cell_type": "code",
   "execution_count": 67,
   "id": "deae2848-01fd-409a-8cba-525cf9f32e85",
   "metadata": {},
   "outputs": [
    {
     "data": {
      "text/plain": [
       "0.710579"
      ]
     },
     "execution_count": 67,
     "metadata": {},
     "output_type": "execute_result"
    }
   ],
   "source": [
    "len(filtered_words)/1e6"
   ]
  },
  {
   "cell_type": "code",
   "execution_count": 69,
   "id": "7acc5582-147c-4e63-a57b-f50435378c5e",
   "metadata": {},
   "outputs": [],
   "source": [
    "from collections import Counter\n",
    "words_counter = Counter(filtered_words)"
   ]
  },
  {
   "cell_type": "code",
   "execution_count": 71,
   "id": "5b2012f5-ae43-4ca6-a158-64e8dfb53f1f",
   "metadata": {},
   "outputs": [
    {
     "data": {
      "text/plain": [
       "[('film', 9517),\n",
       " ('one', 5852),\n",
       " ('movie', 5771),\n",
       " ('like', 3690),\n",
       " ('even', 2565),\n",
       " ('good', 2411),\n",
       " ('time', 2411),\n",
       " ('story', 2169),\n",
       " ('would', 2109),\n",
       " ('much', 2049)]"
      ]
     },
     "execution_count": 71,
     "metadata": {},
     "output_type": "execute_result"
    }
   ],
   "source": [
    "most_common_words = words_counter.most_common()[:10]\n",
    "most_common_words"
   ]
  },
  {
   "cell_type": "code",
   "execution_count": 73,
   "id": "bd2c8d40-a3b9-40ca-b4c6-fc8a90a74ac9",
   "metadata": {},
   "outputs": [],
   "source": [
    "import matplotlib.pyplot as plt\n",
    "%matplotlib inline"
   ]
  },
  {
   "cell_type": "code",
   "execution_count": 75,
   "id": "769371bc-2683-4941-b254-1dfd681099b0",
   "metadata": {},
   "outputs": [
    {
     "data": {
      "text/plain": [
       "Text(0.5, 0, 'Word Rank')"
      ]
     },
     "execution_count": 75,
     "metadata": {},
     "output_type": "execute_result"
    },
    {
     "data": {
      "image/png": "[encoded data removed]",
      "text/plain": [
       "<Figure size 640x480 with 1 Axes>"
      ]
     },
     "metadata": {},
     "output_type": "display_data"
    }
   ],
   "source": [
    "sorted_word_count = sorted(list(words_counter.values()), reverse = True)\n",
    "plt.loglog(sorted_word_count)\n",
    "plt.ylabel(\"Freq\")\n",
    "plt.xlabel(\"Word Rank\")"
   ]
  },
  {
   "cell_type": "code",
   "execution_count": 77,
   "id": "34eda8c4-a119-4766-bf5f-2f57009d434c",
   "metadata": {},
   "outputs": [
    {
     "data": {
      "text/plain": [
       "(array([3.897e+04, 3.610e+02, 1.170e+02, 4.300e+01, 4.000e+01, 1.500e+01,\n",
       "        9.000e+00, 8.000e+00, 5.000e+00, 4.000e+00, 6.000e+00, 2.000e+00,\n",
       "        2.000e+00, 1.000e+00, 0.000e+00, 0.000e+00, 0.000e+00, 0.000e+00,\n",
       "        0.000e+00, 1.000e+00, 0.000e+00, 0.000e+00, 0.000e+00, 0.000e+00,\n",
       "        0.000e+00, 0.000e+00, 0.000e+00, 0.000e+00, 0.000e+00, 0.000e+00,\n",
       "        2.000e+00, 0.000e+00, 0.000e+00, 0.000e+00, 0.000e+00, 0.000e+00,\n",
       "        0.000e+00, 0.000e+00, 0.000e+00, 0.000e+00, 0.000e+00, 0.000e+00,\n",
       "        0.000e+00, 0.000e+00, 0.000e+00, 0.000e+00, 0.000e+00, 0.000e+00,\n",
       "        0.000e+00, 1.000e+00]),\n",
       " array([1.00000e+00, 1.91320e+02, 3.81640e+02, 5.71960e+02, 7.62280e+02,\n",
       "        9.52600e+02, 1.14292e+03, 1.33324e+03, 1.52356e+03, 1.71388e+03,\n",
       "        1.90420e+03, 2.09452e+03, 2.28484e+03, 2.47516e+03, 2.66548e+03,\n",
       "        2.85580e+03, 3.04612e+03, 3.23644e+03, 3.42676e+03, 3.61708e+03,\n",
       "        3.80740e+03, 3.99772e+03, 4.18804e+03, 4.37836e+03, 4.56868e+03,\n",
       "        4.75900e+03, 4.94932e+03, 5.13964e+03, 5.32996e+03, 5.52028e+03,\n",
       "        5.71060e+03, 5.90092e+03, 6.09124e+03, 6.28156e+03, 6.47188e+03,\n",
       "        6.66220e+03, 6.85252e+03, 7.04284e+03, 7.23316e+03, 7.42348e+03,\n",
       "        7.61380e+03, 7.80412e+03, 7.99444e+03, 8.18476e+03, 8.37508e+03,\n",
       "        8.56540e+03, 8.75572e+03, 8.94604e+03, 9.13636e+03, 9.32668e+03,\n",
       "        9.51700e+03]),\n",
       " <BarContainer object of 50 artists>)"
      ]
     },
     "execution_count": 77,
     "metadata": {},
     "output_type": "execute_result"
    },
    {
     "data": {
      "image/png": "[encoded data removed]",
      "text/plain": [
       "<Figure size 640x480 with 1 Axes>"
      ]
     },
     "metadata": {},
     "output_type": "display_data"
    }
   ],
   "source": [
    "plt.hist(sorted_word_count, bins = 50)"
   ]
  },
  {
   "cell_type": "code",
   "execution_count": 79,
   "id": "b21e22ac-604a-48d6-83a5-61df33e795b9",
   "metadata": {},
   "outputs": [
    {
     "data": {
      "text/plain": [
       "(array([3.897e+04, 3.610e+02, 1.170e+02, 4.300e+01, 4.000e+01, 1.500e+01,\n",
       "        9.000e+00, 8.000e+00, 5.000e+00, 4.000e+00, 6.000e+00, 2.000e+00,\n",
       "        2.000e+00, 1.000e+00, 0.000e+00, 0.000e+00, 0.000e+00, 0.000e+00,\n",
       "        0.000e+00, 1.000e+00, 0.000e+00, 0.000e+00, 0.000e+00, 0.000e+00,\n",
       "        0.000e+00, 0.000e+00, 0.000e+00, 0.000e+00, 0.000e+00, 0.000e+00,\n",
       "        2.000e+00, 0.000e+00, 0.000e+00, 0.000e+00, 0.000e+00, 0.000e+00,\n",
       "        0.000e+00, 0.000e+00, 0.000e+00, 0.000e+00, 0.000e+00, 0.000e+00,\n",
       "        0.000e+00, 0.000e+00, 0.000e+00, 0.000e+00, 0.000e+00, 0.000e+00,\n",
       "        0.000e+00, 1.000e+00]),\n",
       " array([1.00000e+00, 1.91320e+02, 3.81640e+02, 5.71960e+02, 7.62280e+02,\n",
       "        9.52600e+02, 1.14292e+03, 1.33324e+03, 1.52356e+03, 1.71388e+03,\n",
       "        1.90420e+03, 2.09452e+03, 2.28484e+03, 2.47516e+03, 2.66548e+03,\n",
       "        2.85580e+03, 3.04612e+03, 3.23644e+03, 3.42676e+03, 3.61708e+03,\n",
       "        3.80740e+03, 3.99772e+03, 4.18804e+03, 4.37836e+03, 4.56868e+03,\n",
       "        4.75900e+03, 4.94932e+03, 5.13964e+03, 5.32996e+03, 5.52028e+03,\n",
       "        5.71060e+03, 5.90092e+03, 6.09124e+03, 6.28156e+03, 6.47188e+03,\n",
       "        6.66220e+03, 6.85252e+03, 7.04284e+03, 7.23316e+03, 7.42348e+03,\n",
       "        7.61380e+03, 7.80412e+03, 7.99444e+03, 8.18476e+03, 8.37508e+03,\n",
       "        8.56540e+03, 8.75572e+03, 8.94604e+03, 9.13636e+03, 9.32668e+03,\n",
       "        9.51700e+03]),\n",
       " <BarContainer object of 50 artists>)"
      ]
     },
     "execution_count": 79,
     "metadata": {},
     "output_type": "execute_result"
    },
    {
     "data": {
      "image/png": "[encoded data removed]",
      "text/plain": [
       "<Figure size 640x480 with 1 Axes>"
      ]
     },
     "metadata": {},
     "output_type": "display_data"
    }
   ],
   "source": [
    "plt.hist(sorted_word_count, bins = 50, log = True)"
   ]
  },
  {
   "cell_type": "code",
   "execution_count": 81,
   "id": "573474dc-3241-4f13-a6f1-a65fc9a5cd5f",
   "metadata": {},
   "outputs": [],
   "source": [
    "negative_features = [(build_bag_of_words_features_filtered(movie_reviews.words(fileids = [f])), 'neg')\\\n",
    "                    for f in neg_fileids ]"
   ]
  },
  {
   "cell_type": "code",
   "execution_count": 83,
   "id": "6070ea02-f57e-4875-9a65-4bd29e7cd049",
   "metadata": {},
   "outputs": [],
   "source": [
    "positive_features = [(build_bag_of_words_features_filtered(movie_reviews.words(fileids = [f])), 'pos')\\\n",
    "                    for f in pos_fileids ]"
   ]
  },
  {
   "cell_type": "code",
   "execution_count": 85,
   "id": "fa3461f5-b404-4881-ada0-63018e64b06d",
   "metadata": {},
   "outputs": [
    {
     "data": {
      "text/plain": [
       "({'quest': True,\n",
       "  'camelot': True,\n",
       "  'warner': True,\n",
       "  'bros': True,\n",
       "  'first': True,\n",
       "  'feature': True,\n",
       "  'length': True,\n",
       "  'fully': True,\n",
       "  'animated': True,\n",
       "  'attempt': True,\n",
       "  'steal': True,\n",
       "  'clout': True,\n",
       "  'disney': True,\n",
       "  'cartoon': True,\n",
       "  'empire': True,\n",
       "  'mouse': True,\n",
       "  'reason': True,\n",
       "  'worried': True,\n",
       "  'recent': True,\n",
       "  'challenger': True,\n",
       "  'throne': True,\n",
       "  'last': True,\n",
       "  'fall': True,\n",
       "  'promising': True,\n",
       "  'flawed': True,\n",
       "  '20th': True,\n",
       "  'century': True,\n",
       "  'fox': True,\n",
       "  'production': True,\n",
       "  'anastasia': True,\n",
       "  'hercules': True,\n",
       "  'lively': True,\n",
       "  'cast': True,\n",
       "  'colorful': True,\n",
       "  'palate': True,\n",
       "  'beat': True,\n",
       "  'hands': True,\n",
       "  'came': True,\n",
       "  'time': True,\n",
       "  'crown': True,\n",
       "  '1997': True,\n",
       "  'best': True,\n",
       "  'piece': True,\n",
       "  'animation': True,\n",
       "  'year': True,\n",
       "  'contest': True,\n",
       "  'pretty': True,\n",
       "  'much': True,\n",
       "  'dead': True,\n",
       "  'arrival': True,\n",
       "  'even': True,\n",
       "  'magic': True,\n",
       "  'kingdom': True,\n",
       "  'mediocre': True,\n",
       "  '--': True,\n",
       "  'pocahontas': True,\n",
       "  'keeping': True,\n",
       "  'score': True,\n",
       "  'nearly': True,\n",
       "  'dull': True,\n",
       "  'story': True,\n",
       "  'revolves': True,\n",
       "  'around': True,\n",
       "  'adventures': True,\n",
       "  'free': True,\n",
       "  'spirited': True,\n",
       "  'kayley': True,\n",
       "  'voiced': True,\n",
       "  'jessalyn': True,\n",
       "  'gilsig': True,\n",
       "  'early': True,\n",
       "  'teen': True,\n",
       "  'daughter': True,\n",
       "  'belated': True,\n",
       "  'knight': True,\n",
       "  'king': True,\n",
       "  'arthur': True,\n",
       "  'round': True,\n",
       "  'table': True,\n",
       "  'dream': True,\n",
       "  'follow': True,\n",
       "  'father': True,\n",
       "  'footsteps': True,\n",
       "  'gets': True,\n",
       "  'chance': True,\n",
       "  'evil': True,\n",
       "  'warlord': True,\n",
       "  'ruber': True,\n",
       "  'gary': True,\n",
       "  'oldman': True,\n",
       "  'ex': True,\n",
       "  'member': True,\n",
       "  'gone': True,\n",
       "  'bad': True,\n",
       "  'steals': True,\n",
       "  'magical': True,\n",
       "  'sword': True,\n",
       "  'excalibur': True,\n",
       "  'accidentally': True,\n",
       "  'loses': True,\n",
       "  'dangerous': True,\n",
       "  'booby': True,\n",
       "  'trapped': True,\n",
       "  'forest': True,\n",
       "  'help': True,\n",
       "  'hunky': True,\n",
       "  'blind': True,\n",
       "  'timberland': True,\n",
       "  'dweller': True,\n",
       "  'garrett': True,\n",
       "  'carey': True,\n",
       "  'elwes': True,\n",
       "  'two': True,\n",
       "  'headed': True,\n",
       "  'dragon': True,\n",
       "  'eric': True,\n",
       "  'idle': True,\n",
       "  'rickles': True,\n",
       "  'always': True,\n",
       "  'arguing': True,\n",
       "  'might': True,\n",
       "  'able': True,\n",
       "  'break': True,\n",
       "  'medieval': True,\n",
       "  'sexist': True,\n",
       "  'mold': True,\n",
       "  'prove': True,\n",
       "  'worth': True,\n",
       "  'fighter': True,\n",
       "  'side': True,\n",
       "  'missing': True,\n",
       "  'pure': True,\n",
       "  'showmanship': True,\n",
       "  'essential': True,\n",
       "  'element': True,\n",
       "  'ever': True,\n",
       "  'expected': True,\n",
       "  'climb': True,\n",
       "  'high': True,\n",
       "  'ranks': True,\n",
       "  'nothing': True,\n",
       "  'differentiates': True,\n",
       "  'something': True,\n",
       "  'see': True,\n",
       "  'given': True,\n",
       "  'saturday': True,\n",
       "  'morning': True,\n",
       "  'subpar': True,\n",
       "  'instantly': True,\n",
       "  'forgettable': True,\n",
       "  'songs': True,\n",
       "  'poorly': True,\n",
       "  'integrated': True,\n",
       "  'computerized': True,\n",
       "  'footage': True,\n",
       "  'compare': True,\n",
       "  'run': True,\n",
       "  'angry': True,\n",
       "  'ogre': True,\n",
       "  'herc': True,\n",
       "  'battle': True,\n",
       "  'hydra': True,\n",
       "  'rest': True,\n",
       "  'case': True,\n",
       "  'characters': True,\n",
       "  'stink': True,\n",
       "  'none': True,\n",
       "  'remotely': True,\n",
       "  'interesting': True,\n",
       "  'film': True,\n",
       "  'becomes': True,\n",
       "  'race': True,\n",
       "  'one': True,\n",
       "  'bland': True,\n",
       "  'others': True,\n",
       "  'end': True,\n",
       "  'tie': True,\n",
       "  'win': True,\n",
       "  'comedy': True,\n",
       "  'shtick': True,\n",
       "  'awfully': True,\n",
       "  'cloying': True,\n",
       "  'least': True,\n",
       "  'shows': True,\n",
       "  'signs': True,\n",
       "  'pulse': True,\n",
       "  'fans': True,\n",
       "  \"-'\": True,\n",
       "  '90s': True,\n",
       "  'tgif': True,\n",
       "  'television': True,\n",
       "  'line': True,\n",
       "  'thrilled': True,\n",
       "  'find': True,\n",
       "  'jaleel': True,\n",
       "  'urkel': True,\n",
       "  'white': True,\n",
       "  'bronson': True,\n",
       "  'balki': True,\n",
       "  'pinchot': True,\n",
       "  'sharing': True,\n",
       "  'scenes': True,\n",
       "  'nicely': True,\n",
       "  'realized': True,\n",
       "  'though': True,\n",
       "  'loss': True,\n",
       "  'recall': True,\n",
       "  'enough': True,\n",
       "  'specific': True,\n",
       "  'actors': True,\n",
       "  'providing': True,\n",
       "  'voice': True,\n",
       "  'talent': True,\n",
       "  'enthusiastic': True,\n",
       "  'paired': True,\n",
       "  'singers': True,\n",
       "  'sound': True,\n",
       "  'thing': True,\n",
       "  'like': True,\n",
       "  'big': True,\n",
       "  'musical': True,\n",
       "  'moments': True,\n",
       "  'jane': True,\n",
       "  'seymour': True,\n",
       "  'celine': True,\n",
       "  'dion': True,\n",
       "  'must': True,\n",
       "  'strain': True,\n",
       "  'mess': True,\n",
       "  'good': True,\n",
       "  'aside': True,\n",
       "  'fact': True,\n",
       "  'children': True,\n",
       "  'probably': True,\n",
       "  'bored': True,\n",
       "  'watching': True,\n",
       "  'adults': True,\n",
       "  'grievous': True,\n",
       "  'error': True,\n",
       "  'complete': True,\n",
       "  'lack': True,\n",
       "  'personality': True,\n",
       "  'learn': True,\n",
       "  'goes': True,\n",
       "  'long': True,\n",
       "  'way': True},\n",
       " 'neg')"
      ]
     },
     "execution_count": 85,
     "metadata": {},
     "output_type": "execute_result"
    }
   ],
   "source": [
    "negative_features[3]"
   ]
  },
  {
   "cell_type": "code",
   "execution_count": 87,
   "id": "bf7d0e21-cef0-4a26-b9d0-146db61c911a",
   "metadata": {},
   "outputs": [
    {
     "data": {
      "text/plain": [
       "({'films': True,\n",
       "  'adapted': True,\n",
       "  'comic': True,\n",
       "  'books': True,\n",
       "  'plenty': True,\n",
       "  'success': True,\n",
       "  'whether': True,\n",
       "  'superheroes': True,\n",
       "  'batman': True,\n",
       "  'superman': True,\n",
       "  'spawn': True,\n",
       "  'geared': True,\n",
       "  'toward': True,\n",
       "  'kids': True,\n",
       "  'casper': True,\n",
       "  'arthouse': True,\n",
       "  'crowd': True,\n",
       "  'ghost': True,\n",
       "  'world': True,\n",
       "  'never': True,\n",
       "  'really': True,\n",
       "  'book': True,\n",
       "  'like': True,\n",
       "  'hell': True,\n",
       "  'starters': True,\n",
       "  'created': True,\n",
       "  'alan': True,\n",
       "  'moore': True,\n",
       "  'eddie': True,\n",
       "  'campbell': True,\n",
       "  'brought': True,\n",
       "  'medium': True,\n",
       "  'whole': True,\n",
       "  'new': True,\n",
       "  'level': True,\n",
       "  'mid': True,\n",
       "  '80s': True,\n",
       "  '12': True,\n",
       "  'part': True,\n",
       "  'series': True,\n",
       "  'called': True,\n",
       "  'watchmen': True,\n",
       "  'say': True,\n",
       "  'thoroughly': True,\n",
       "  'researched': True,\n",
       "  'subject': True,\n",
       "  'jack': True,\n",
       "  'ripper': True,\n",
       "  'would': True,\n",
       "  'saying': True,\n",
       "  'michael': True,\n",
       "  'jackson': True,\n",
       "  'starting': True,\n",
       "  'look': True,\n",
       "  'little': True,\n",
       "  'odd': True,\n",
       "  'graphic': True,\n",
       "  'novel': True,\n",
       "  '500': True,\n",
       "  'pages': True,\n",
       "  'long': True,\n",
       "  'includes': True,\n",
       "  'nearly': True,\n",
       "  '30': True,\n",
       "  'consist': True,\n",
       "  'nothing': True,\n",
       "  'footnotes': True,\n",
       "  'words': True,\n",
       "  'dismiss': True,\n",
       "  'film': True,\n",
       "  'source': True,\n",
       "  'get': True,\n",
       "  'past': True,\n",
       "  'thing': True,\n",
       "  'might': True,\n",
       "  'find': True,\n",
       "  'another': True,\n",
       "  'stumbling': True,\n",
       "  'block': True,\n",
       "  'directors': True,\n",
       "  'albert': True,\n",
       "  'allen': True,\n",
       "  'hughes': True,\n",
       "  'getting': True,\n",
       "  'brothers': True,\n",
       "  'direct': True,\n",
       "  'seems': True,\n",
       "  'almost': True,\n",
       "  'ludicrous': True,\n",
       "  'casting': True,\n",
       "  'carrot': True,\n",
       "  'top': True,\n",
       "  'well': True,\n",
       "  'anything': True,\n",
       "  'riddle': True,\n",
       "  'better': True,\n",
       "  'set': True,\n",
       "  'ghetto': True,\n",
       "  'features': True,\n",
       "  'violent': True,\n",
       "  'street': True,\n",
       "  'crime': True,\n",
       "  'mad': True,\n",
       "  'geniuses': True,\n",
       "  'behind': True,\n",
       "  'menace': True,\n",
       "  'ii': True,\n",
       "  'society': True,\n",
       "  'question': True,\n",
       "  'course': True,\n",
       "  'whitechapel': True,\n",
       "  '1888': True,\n",
       "  'london': True,\n",
       "  'east': True,\n",
       "  'end': True,\n",
       "  'filthy': True,\n",
       "  'sooty': True,\n",
       "  'place': True,\n",
       "  'whores': True,\n",
       "  'unfortunates': True,\n",
       "  'nervous': True,\n",
       "  'mysterious': True,\n",
       "  'psychopath': True,\n",
       "  'carving': True,\n",
       "  'profession': True,\n",
       "  'surgical': True,\n",
       "  'precision': True,\n",
       "  'first': True,\n",
       "  'stiff': True,\n",
       "  'turns': True,\n",
       "  'copper': True,\n",
       "  'peter': True,\n",
       "  'godley': True,\n",
       "  'robbie': True,\n",
       "  'coltrane': True,\n",
       "  'enough': True,\n",
       "  'calls': True,\n",
       "  'inspector': True,\n",
       "  'frederick': True,\n",
       "  'abberline': True,\n",
       "  'johnny': True,\n",
       "  'depp': True,\n",
       "  'blow': True,\n",
       "  'crack': True,\n",
       "  'case': True,\n",
       "  'widower': True,\n",
       "  'prophetic': True,\n",
       "  'dreams': True,\n",
       "  'unsuccessfully': True,\n",
       "  'tries': True,\n",
       "  'quell': True,\n",
       "  'copious': True,\n",
       "  'amounts': True,\n",
       "  'absinthe': True,\n",
       "  'opium': True,\n",
       "  'upon': True,\n",
       "  'arriving': True,\n",
       "  'befriends': True,\n",
       "  'unfortunate': True,\n",
       "  'named': True,\n",
       "  'mary': True,\n",
       "  'kelly': True,\n",
       "  'heather': True,\n",
       "  'graham': True,\n",
       "  'proceeds': True,\n",
       "  'investigate': True,\n",
       "  'horribly': True,\n",
       "  'gruesome': True,\n",
       "  'crimes': True,\n",
       "  'even': True,\n",
       "  'police': True,\n",
       "  'surgeon': True,\n",
       "  'stomach': True,\n",
       "  'think': True,\n",
       "  'anyone': True,\n",
       "  'needs': True,\n",
       "  'briefed': True,\n",
       "  'go': True,\n",
       "  'particulars': True,\n",
       "  'unique': True,\n",
       "  'interesting': True,\n",
       "  'theory': True,\n",
       "  'identity': True,\n",
       "  'killer': True,\n",
       "  'reasons': True,\n",
       "  'chooses': True,\n",
       "  'slay': True,\n",
       "  'bother': True,\n",
       "  'cloaking': True,\n",
       "  'screenwriters': True,\n",
       "  'terry': True,\n",
       "  'hayes': True,\n",
       "  'vertical': True,\n",
       "  'limit': True,\n",
       "  'rafael': True,\n",
       "  'yglesias': True,\n",
       "  'les': True,\n",
       "  'mis': True,\n",
       "  'rables': True,\n",
       "  'good': True,\n",
       "  'job': True,\n",
       "  'keeping': True,\n",
       "  'hidden': True,\n",
       "  'viewers': True,\n",
       "  'funny': True,\n",
       "  'watch': True,\n",
       "  'locals': True,\n",
       "  'blindly': True,\n",
       "  'point': True,\n",
       "  'finger': True,\n",
       "  'blame': True,\n",
       "  'jews': True,\n",
       "  'indians': True,\n",
       "  'englishman': True,\n",
       "  'could': True,\n",
       "  'capable': True,\n",
       "  'committing': True,\n",
       "  'ghastly': True,\n",
       "  'acts': True,\n",
       "  'ending': True,\n",
       "  'whistling': True,\n",
       "  'stonecutters': True,\n",
       "  'song': True,\n",
       "  'simpsons': True,\n",
       "  'days': True,\n",
       "  'holds': True,\n",
       "  'back': True,\n",
       "  'electric': True,\n",
       "  'car': True,\n",
       "  'made': True,\n",
       "  'steve': True,\n",
       "  'guttenberg': True,\n",
       "  'star': True,\n",
       "  'worry': True,\n",
       "  'make': True,\n",
       "  'sense': True,\n",
       "  'see': True,\n",
       "  'onto': True,\n",
       "  'appearance': True,\n",
       "  'certainly': True,\n",
       "  'dark': True,\n",
       "  'bleak': True,\n",
       "  'surprising': True,\n",
       "  'much': True,\n",
       "  'looks': True,\n",
       "  'tim': True,\n",
       "  'burton': True,\n",
       "  'planet': True,\n",
       "  'apes': True,\n",
       "  'times': True,\n",
       "  'sleepy': True,\n",
       "  'hollow': True,\n",
       "  '2': True,\n",
       "  'print': True,\n",
       "  'saw': True,\n",
       "  'completely': True,\n",
       "  'finished': True,\n",
       "  'color': True,\n",
       "  'music': True,\n",
       "  'finalized': True,\n",
       "  'comments': True,\n",
       "  'marilyn': True,\n",
       "  'manson': True,\n",
       "  'cinematographer': True,\n",
       "  'deming': True,\n",
       "  'word': True,\n",
       "  'ably': True,\n",
       "  'captures': True,\n",
       "  'dreariness': True,\n",
       "  'victorian': True,\n",
       "  'era': True,\n",
       "  'helped': True,\n",
       "  'flashy': True,\n",
       "  'killing': True,\n",
       "  'scenes': True,\n",
       "  'remind': True,\n",
       "  'crazy': True,\n",
       "  'flashbacks': True,\n",
       "  'twin': True,\n",
       "  'peaks': True,\n",
       "  'though': True,\n",
       "  'violence': True,\n",
       "  'pales': True,\n",
       "  'comparison': True,\n",
       "  'black': True,\n",
       "  'white': True,\n",
       "  'oscar': True,\n",
       "  'winner': True,\n",
       "  'martin': True,\n",
       "  'childs': True,\n",
       "  'shakespeare': True,\n",
       "  'love': True,\n",
       "  'production': True,\n",
       "  'design': True,\n",
       "  'original': True,\n",
       "  'prague': True,\n",
       "  'surroundings': True,\n",
       "  'one': True,\n",
       "  'creepy': True,\n",
       "  'acting': True,\n",
       "  'solid': True,\n",
       "  'dreamy': True,\n",
       "  'turning': True,\n",
       "  'typically': True,\n",
       "  'strong': True,\n",
       "  'performance': True,\n",
       "  'deftly': True,\n",
       "  'handling': True,\n",
       "  'british': True,\n",
       "  'accent': True,\n",
       "  'ians': True,\n",
       "  'holm': True,\n",
       "  'joe': True,\n",
       "  'gould': True,\n",
       "  'secret': True,\n",
       "  'richardson': True,\n",
       "  '102': True,\n",
       "  'dalmatians': True,\n",
       "  'log': True,\n",
       "  'great': True,\n",
       "  'supporting': True,\n",
       "  'roles': True,\n",
       "  'big': True,\n",
       "  'surprise': True,\n",
       "  'cringed': True,\n",
       "  'time': True,\n",
       "  'opened': True,\n",
       "  'mouth': True,\n",
       "  'imagining': True,\n",
       "  'attempt': True,\n",
       "  'irish': True,\n",
       "  'actually': True,\n",
       "  'half': True,\n",
       "  'bad': True,\n",
       "  'however': True,\n",
       "  '00': True,\n",
       "  'r': True,\n",
       "  'gore': True,\n",
       "  'sexuality': True,\n",
       "  'language': True,\n",
       "  'drug': True,\n",
       "  'content': True},\n",
       " 'pos')"
      ]
     },
     "execution_count": 87,
     "metadata": {},
     "output_type": "execute_result"
    }
   ],
   "source": [
    "positive_features[0]"
   ]
  },
  {
   "cell_type": "code",
   "execution_count": 89,
   "id": "1f73c106-fe60-4cd8-96f7-61cd0a7c6922",
   "metadata": {},
   "outputs": [],
   "source": [
    "from nltk.classify import NaiveBayesClassifier"
   ]
  },
  {
   "cell_type": "code",
   "execution_count": 91,
   "id": "3924a02f-5b6d-476c-a1ea-1e6ebdd3d82f",
   "metadata": {},
   "outputs": [],
   "source": [
    "split = 800"
   ]
  },
  {
   "cell_type": "code",
   "execution_count": 93,
   "id": "b9fc15b3-a3f1-4043-ba0a-d423362b27f7",
   "metadata": {},
   "outputs": [],
   "source": [
    "sentiment_classiii = NaiveBayesClassifier.train(positive_features[:split]+negative_features[:split])"
   ]
  },
  {
   "cell_type": "code",
   "execution_count": 95,
   "id": "a4f396df-6320-4e51-917a-8119ed96787b",
   "metadata": {},
   "outputs": [
    {
     "data": {
      "text/plain": [
       "98.0625"
      ]
     },
     "execution_count": 95,
     "metadata": {},
     "output_type": "execute_result"
    }
   ],
   "source": [
    "nltk.classify.util.accuracy(sentiment_classiii, positive_features[:split]+negative_features[:split])*100"
   ]
  },
  {
   "cell_type": "code",
   "execution_count": 97,
   "id": "1de4ead7-fdfc-4507-b0e6-8be17f9f2797",
   "metadata": {},
   "outputs": [
    {
     "data": {
      "text/plain": [
       "71.75"
      ]
     },
     "execution_count": 97,
     "metadata": {},
     "output_type": "execute_result"
    }
   ],
   "source": [
    "nltk.classify.util.accuracy(sentiment_classiii, positive_features[split:]+negative_features[split:])*100"
   ]
  },
  {
   "cell_type": "code",
   "execution_count": 99,
   "id": "cbbc3269-afad-44a3-8574-dc671a373d20",
   "metadata": {},
   "outputs": [
    {
     "name": "stdout",
     "output_type": "stream",
     "text": [
      "Most Informative Features\n",
      "             outstanding = True              pos : neg    =     13.9 : 1.0\n",
      "               insulting = True              neg : pos    =     13.7 : 1.0\n",
      "              vulnerable = True              pos : neg    =     13.0 : 1.0\n",
      "               ludicrous = True              neg : pos    =     12.6 : 1.0\n",
      "             uninvolving = True              neg : pos    =     12.3 : 1.0\n",
      "              astounding = True              pos : neg    =     11.7 : 1.0\n",
      "                  avoids = True              pos : neg    =     11.7 : 1.0\n",
      "             fascination = True              pos : neg    =     11.0 : 1.0\n",
      "               affecting = True              pos : neg    =     10.3 : 1.0\n",
      "               animators = True              pos : neg    =     10.3 : 1.0\n"
     ]
    }
   ],
   "source": [
    "sentiment_classiii.show_most_informative_features()"
   ]
  },
  {
   "cell_type": "code",
   "execution_count": null,
   "id": "f1ef9a31-1610-46b6-8721-595d574bdc2c",
   "metadata": {},
   "outputs": [],
   "source": []
  }
 ],
 "metadata": {
  "kernelspec": {
   "display_name": "Python [conda env:base] *",
   "language": "python",
   "name": "conda-base-py"
  },
  "language_info": {
   "codemirror_mode": {
    "name": "ipython",
    "version": 3
   },
   "file_extension": ".py",
   "mimetype": "text/x-python",
   "name": "python",
   "nbconvert_exporter": "python",
   "pygments_lexer": "ipython3",
   "version": "3.12.4"
  }
 },
 "nbformat": 4,
 "nbformat_minor": 5
}
